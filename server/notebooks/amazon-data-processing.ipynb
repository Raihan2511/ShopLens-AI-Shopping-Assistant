{
 "cells": [
  {
   "cell_type": "markdown",
   "metadata": {},
   "source": [
    "# Amazon Data Processing"
   ]
  },
  {
   "cell_type": "code",
   "execution_count": 40,
   "metadata": {},
   "outputs": [],
   "source": [
    "import os\n",
    "import pandas as pd\n",
    "import requests\n",
    "from rich.progress import Progress, TimeRemainingColumn, TimeElapsedColumn, BarColumn, TextColumn\n",
    "from time import time"
   ]
  },
  {
   "cell_type": "code",
   "execution_count": 4,
   "metadata": {},
   "outputs": [
    {
     "name": "stdout",
     "output_type": "stream",
     "text": [
      "         asin                                              title  \\\n",
      "0  B09B96TG33  Echo Dot (5th generation, 2022 release) | Big ...   \n",
      "1  B01HTH3C8S  Anker Soundcore mini, Super-Portable Bluetooth...   \n",
      "2  B09B8YWXDF  Echo Dot (5th generation, 2022 release) | Big ...   \n",
      "3  B09B8T5VGV  Echo Dot with clock (5th generation, 2022 rele...   \n",
      "4  B09WX6QD65  Introducing Echo Pop | Full sound compact Wi-F...   \n",
      "\n",
      "                                              imgUrl  \\\n",
      "0  https://m.media-amazon.com/images/I/71C3lbbeLs...   \n",
      "1  https://m.media-amazon.com/images/I/61c5rSxwP0...   \n",
      "2  https://m.media-amazon.com/images/I/61j3SEUjMJ...   \n",
      "3  https://m.media-amazon.com/images/I/71yf6yTNWS...   \n",
      "4  https://m.media-amazon.com/images/I/613dEoF9-r...   \n",
      "\n",
      "                               productURL  stars  reviews  price  \\\n",
      "0  https://www.amazon.co.uk/dp/B09B96TG33    4.7    15308  21.99   \n",
      "1  https://www.amazon.co.uk/dp/B01HTH3C8S    4.7    98099  23.99   \n",
      "2  https://www.amazon.co.uk/dp/B09B8YWXDF    4.7    15308  21.99   \n",
      "3  https://www.amazon.co.uk/dp/B09B8T5VGV    4.7     7205  31.99   \n",
      "4  https://www.amazon.co.uk/dp/B09WX6QD65    4.6     1881  17.99   \n",
      "\n",
      "   isBestSeller  boughtInLastMonth    categoryName  \n",
      "0         False                  0  Hi-Fi Speakers  \n",
      "1          True                  0  Hi-Fi Speakers  \n",
      "2         False                  0  Hi-Fi Speakers  \n",
      "3         False                  0  Hi-Fi Speakers  \n",
      "4         False                  0  Hi-Fi Speakers  \n"
     ]
    }
   ],
   "source": [
    "df = pd.read_csv(\"../../dataset/Amazon Dataset/amz_uk_processed_data.csv\")\n",
    "print(df.head())\n"
   ]
  },
  {
   "cell_type": "code",
   "execution_count": 6,
   "metadata": {},
   "outputs": [
    {
     "data": {
      "text/plain": [
       "array(['Hi-Fi Speakers', 'CD, Disc & Tape Players', 'Wearable Technology',\n",
       "       'Light Bulbs', 'Bathroom Lighting',\n",
       "       'Heating, Cooling & Air Quality', 'Coffee & Espresso Machines',\n",
       "       'Lab & Scientific Products', 'Smart Speakers',\n",
       "       'Motorbike Clothing', 'Motorbike Accessories',\n",
       "       'Motorbike Batteries', 'Motorbike Boots & Luggage',\n",
       "       'Motorbike Chassis', 'Handmade Home & Kitchen Products',\n",
       "       'Hardware', 'Storage & Home Organisation',\n",
       "       'Fireplaces, Stoves & Accessories', 'PC Gaming Accessories',\n",
       "       'USB Gadgets', 'Blank Media Cases & Wallets', 'Car & Motorbike',\n",
       "       'Boys', 'Sports & Outdoors', 'Microphones', 'String Instruments',\n",
       "       'Karaoke Equipment', 'PA & Stage',\n",
       "       'General Music-Making Accessories', 'Wind Instruments',\n",
       "       'Handmade Gifts', 'Fragrances', 'Calendars & Personal Organisers',\n",
       "       'Furniture & Lighting', 'Computer Printers', 'Ski Goggles',\n",
       "       'Snowboards', 'Skiing Poles', 'Downhill Ski Boots',\n",
       "       'Hiking Hand & Foot Warmers', 'Pet Supplies',\n",
       "       'Plants, Seeds & Bulbs', 'Garden Furniture & Accessories',\n",
       "       'Bird & Wildlife Care', 'Storage & Organisation',\n",
       "       'Living Room Furniture', 'Bedding & Linen',\n",
       "       'Curtain & Blind Accessories', 'Skin Care',\n",
       "       \"Kids' Art & Craft Supplies\", \"Kids' Play Vehicles\", 'Hobbies',\n",
       "       'Laptops', 'Projectors', 'Graphics Cards', 'Computer Memory',\n",
       "       'Motherboards', 'Power Supplies', 'CPUs', 'Computer Screws',\n",
       "       'Streaming Clients', '3D Printers', 'Barebone PCs',\n",
       "       \"Women's Sports & Outdoor Shoes\", 'Luxury Food & Drink',\n",
       "       'Alexa Built-In Devices', 'PC & Video Games', 'SIM Cards',\n",
       "       'Mobile Phone Accessories', 'Birthday Gifts',\n",
       "       'Handmade Kitchen & Dining', 'Abrasive & Finishing Products',\n",
       "       'Professional Medical Supplies', 'Cutting Tools',\n",
       "       'Material Handling Products', 'Packaging & Shipping Supplies',\n",
       "       'Power & Hand Tools', 'Agricultural Equipment & Supplies',\n",
       "       'Tennis Shoes', 'Boating Footwear', 'Cycling Shoes', 'Bath & Body',\n",
       "       'Home Brewing & Wine Making', 'Tableware',\n",
       "       'Kitchen Storage & Organisation', 'Kitchen Tools & Gadgets',\n",
       "       'Cookware', 'Water Coolers, Filters & Cartridges',\n",
       "       'Beer, Wine & Spirits', 'Manicure & Pedicure Products', 'Flashes',\n",
       "       'Computers, Components & Accessories', 'Home Audio Record Players',\n",
       "       'Radios & Boomboxes', 'Car & Vehicle Electronics',\n",
       "       'eBook Readers & Accessories', 'Lighting',\n",
       "       'Small Kitchen Appliances', 'Motorbike Engines & Engine Parts',\n",
       "       'Motorbike Drive & Gears', 'Motorbike Brakes',\n",
       "       'Motorbike Exhaust & Exhaust Systems',\n",
       "       'Motorbike Handlebars, Controls & Grips',\n",
       "       'Mowers & Outdoor Power Tools', 'Kitchen & Bath Fixtures',\n",
       "       'Rough Plumbing', 'Monitor Accessories', 'Cables & Accessories',\n",
       "       'Guitars & Gear', 'Pens, Pencils & Writing Supplies',\n",
       "       'School & Educational Supplies', 'Ski Clothing',\n",
       "       'Outdoor Heaters & Fire Pits', 'Garden Décor', 'Beauty',\n",
       "       'Made in Italy Handmade', 'Cushions & Accessories',\n",
       "       'Home Fragrance', 'Window Treatments',\n",
       "       'Home Entertainment Furniture', 'Dining Room Furniture',\n",
       "       'Home Bar Furniture', 'Kitchen Linen', 'Mattress Pads & Toppers',\n",
       "       \"Children's Bedding\", 'Bedding Accessories',\n",
       "       'Games & Game Accessories', 'Dolls & Accessories',\n",
       "       'Sports Toys & Outdoor', 'Monitors', 'I/O Port Cards',\n",
       "       'Computer Cases', 'KVM Switches', 'Printers & Accessories',\n",
       "       'Telephones, VoIP & Accessories', 'Handmade Artwork',\n",
       "       'Industrial Electrical', 'Test & Measurement',\n",
       "       '3D Printing & Scanning', 'Basketball Footwear', 'Make-up',\n",
       "       'Surveillance Cameras', 'Photo Printers', 'Tripods & Monopods',\n",
       "       'Mobile Phones & Communication', 'Electrical Power Accessories',\n",
       "       'Radio Communication', 'Outdoor Rope Lights',\n",
       "       'Vacuums & Floorcare', 'Large Appliances', 'Motorbike Lighting',\n",
       "       'Motorbike Seat Covers', 'Motorbike Instruments',\n",
       "       'Motorbike Electrical & Batteries', 'Lights and switches', 'Plugs',\n",
       "       'Home Entertainment', 'Girls',\n",
       "       'Painting Supplies, Tools & Wall Treatments', 'Building Supplies',\n",
       "       'Safety & Security', 'Tablet Accessories',\n",
       "       'Keyboards, Mice & Input Devices', 'Laptop Accessories',\n",
       "       'Headphones & Earphones', 'Baby', 'Smartwatches',\n",
       "       'Piano & Keyboard', 'Drums & Percussion',\n",
       "       'Synthesisers, Samplers & Digital Instruments',\n",
       "       'Office Electronics', 'Office Supplies', 'Gardening',\n",
       "       'Outdoor Cooking', 'Decking & Fencing',\n",
       "       'Thermometers & Meteorological Instruments',\n",
       "       'Pools, Hot Tubs & Supplies', 'Health & Personal Care',\n",
       "       'Decorative Artificial Flora', 'Candles & Holders',\n",
       "       'Signs & Plaques', 'Home Office Furniture', 'Bathroom Furniture',\n",
       "       'Inflatable Beds, Pillows & Accessories', 'Bathroom Linen',\n",
       "       'Bedding Collections', \"Kids' Play Figures\", 'Baby & Toddler Toys',\n",
       "       'Learning & Education Toys', 'Toy Advent Calendars',\n",
       "       'Electronic Toys', 'Tablets', 'External Sound Cards',\n",
       "       'Internal TV Tuner & Video Capture Cards',\n",
       "       'External TV Tuners & Video Capture Cards',\n",
       "       'Scanners & Accessories', \"Men's Sports & Outdoor Shoes\",\n",
       "       'Darts & Dartboards', 'Table Tennis', 'Billiard, Snooker & Pool',\n",
       "       'Bowling', 'Trampolines & Accessories',\n",
       "       'Handmade Clothing, Shoes & Accessories', 'Handmade Home Décor',\n",
       "       'Handmade', 'Smart Home Security & Lighting',\n",
       "       'Professional Education Supplies',\n",
       "       'Hydraulics, Pneumatics & Plumbing', 'Ballet & Dancing Footwear',\n",
       "       'Cricket Shoes', 'Golf Shoes', 'Boxing Shoes', 'Men',\n",
       "       'Headphones, Earphones & Accessories', 'Bakeware', 'Grocery',\n",
       "       'Lenses', 'Camcorders', 'Camera & Photo Accessories',\n",
       "       'Household Batteries, Chargers & Accessories',\n",
       "       'Home Cinema, TV & Video', 'Hi-Fi & Home Audio Accessories',\n",
       "       'Portable Sound & Video Products', 'Outdoor Lighting', 'Torches',\n",
       "       'Sports Supplements', 'Ironing & Steamers',\n",
       "       \"Customers' Most Loved\", 'Cameras', 'Electrical',\n",
       "       'Construction Machinery', 'Handmade Baby Products', 'USB Hubs',\n",
       "       'Computer Audio & Video Accessories', 'Adapters',\n",
       "       'Computer & Server Racks', 'Hard Drive Accessories',\n",
       "       'Printer Accessories', 'Computer Memory Card Accessories',\n",
       "       'Uninterruptible Power Supply Units & Accessories',\n",
       "       'Luggage and travel gear', 'Bass Guitars & Gear',\n",
       "       'Recording & Computer', 'DJ & VJ Equipment',\n",
       "       'Art & Craft Supplies', 'Office Paper Products', 'Ski Helmets',\n",
       "       'Snowboard Boots', 'Snowboard Bindings', 'Downhill Skis',\n",
       "       'Snow Sledding Equipment', 'Networking Devices',\n",
       "       'Garden Storage & Housing', 'Garden Tools & Watering Equipment',\n",
       "       'Photo Frames', 'Rugs, Pads & Protectors', 'Mirrors', 'Clocks',\n",
       "       'Doormats', 'Decorative Home Accessories', 'Boxes & Organisers',\n",
       "       'Slipcovers', 'Vases', 'Bedroom Furniture', 'Hallway Furniture',\n",
       "       'Jigsaws & Puzzles', 'Building & Construction Toys',\n",
       "       'Remote & App-Controlled Devices', \"Kids' Dress Up & Pretend Play\",\n",
       "       'Soft Toys', 'Desktop PCs', 'External Optical Drives',\n",
       "       'Internal Optical Drives', 'Network Cards', 'Data Storage',\n",
       "       'Mobile Phones & Smartphones', 'Handmade Jewellery',\n",
       "       'Gifts for Him', 'Gifts for Her', 'Women', 'Hockey Shoes',\n",
       "       'Climbing Footwear', 'Equestrian Sports Boots', 'Arts & Crafts',\n",
       "       'Hair Care', 'Coffee, Tea & Espresso', 'Digital Cameras',\n",
       "       'Digital Frames', 'Action Cameras', 'Film Cameras',\n",
       "       'Binoculars, Telescopes & Optics', 'Media Streaming Devices',\n",
       "       'Hi-Fi Receivers & Separates', 'GPS, Finders & Accessories',\n",
       "       'Indoor Lighting', 'String Lights'], dtype=object)"
      ]
     },
     "execution_count": 6,
     "metadata": {},
     "output_type": "execute_result"
    }
   ],
   "source": [
    "df[\"categoryName\"].unique()"
   ]
  },
  {
   "cell_type": "code",
   "execution_count": 35,
   "metadata": {},
   "outputs": [
    {
     "name": "stderr",
     "output_type": "stream",
     "text": [
      "C:\\Users\\Sayan\\AppData\\Local\\Temp\\ipykernel_14564\\106030491.py:16: DeprecationWarning: DataFrameGroupBy.apply operated on the grouping columns. This behavior is deprecated, and in a future version of pandas the grouping columns will be excluded from the operation. Either pass `include_groups=False` to exclude the groupings or explicitly select the grouping columns after groupby to silence this warning.\n",
      "  .apply(lambda x: x.sample(n=min(100, len(x)), random_state=42)[x.columns])\n"
     ]
    },
    {
     "data": {
      "text/plain": [
       "(2100, 10)"
      ]
     },
     "execution_count": 35,
     "metadata": {},
     "output_type": "execute_result"
    }
   ],
   "source": [
    "# List of categories to sample from\n",
    "fashion_categories = [\n",
    "    \"Motorbike Clothing\", \"Women's Sports & Outdoor Shoes\", \"Tennis Shoes\", \"Boating Footwear\",\n",
    "    \"Cycling Shoes\", \"Ski Clothing\", \"Beauty\", \"Make-up\", \"Basketball Footwear\",\n",
    "    \"Ballet & Dancing Footwear\", \"Cricket Shoes\", \"Golf Shoes\", \"Boxing Shoes\", \"Men\",\n",
    "    \"Handmade Clothing, Shoes & Accessories\", \"Handmade Jewellery\", \"Hockey Shoes\",\n",
    "    \"Climbing Footwear\", \"Equestrian Sports Boots\", \"Hair Care\", \"Women\"\n",
    "]\n",
    "\n",
    "# Filter DataFrame for the selected categories\n",
    "df_filtered = df[df['categoryName'].isin(fashion_categories)]\n",
    "\n",
    "# Sample up to 100 items per category\n",
    "sampled_df = (\n",
    "    df_filtered.groupby('categoryName', group_keys=False)\n",
    "    .apply(lambda x: x.sample(n=min(100, len(x)), random_state=42)[x.columns])\n",
    ")\n",
    "\n",
    "sampled_df.shape"
   ]
  },
  {
   "cell_type": "code",
   "execution_count": 37,
   "metadata": {},
   "outputs": [],
   "source": [
    "sampled_df.to_csv(\"sampled_fashion_categories.csv\", index=False)"
   ]
  },
  {
   "cell_type": "code",
   "execution_count": 44,
   "metadata": {},
   "outputs": [
    {
     "data": {
      "text/plain": [
       "(2100, 2)"
      ]
     },
     "execution_count": 44,
     "metadata": {},
     "output_type": "execute_result"
    }
   ],
   "source": [
    "df_extracted = sampled_df[['asin', 'imgUrl']].dropna()\n",
    "\n",
    "df_extracted.shape"
   ]
  },
  {
   "cell_type": "code",
   "execution_count": 49,
   "metadata": {},
   "outputs": [],
   "source": [
    "df_extracted.to_csv(\"extracted_fashion_categories.csv\", index=False)"
   ]
  },
  {
   "cell_type": "code",
   "execution_count": 41,
   "metadata": {},
   "outputs": [],
   "source": [
    "# Create directory for images\n",
    "save_dir = \"../../dataset/Amazon Dataset/images\"\n",
    "os.makedirs(save_dir, exist_ok=True)"
   ]
  },
  {
   "cell_type": "code",
   "execution_count": 48,
   "metadata": {},
   "outputs": [
    {
     "data": {
      "application/vnd.jupyter.widget-view+json": {
       "model_id": "99279a4669584bfc8fb4c0e0fb0e875c",
       "version_major": 2,
       "version_minor": 0
      },
      "text/plain": [
       "Output()"
      ]
     },
     "metadata": {},
     "output_type": "display_data"
    },
    {
     "data": {
      "text/html": [
       "<pre style=\"white-space:pre;overflow-x:auto;line-height:normal;font-family:Menlo,'DejaVu Sans Mono',consolas,'Courier New',monospace\">[red]Failed to download:[/red] https://m.media-amazon.com/images/I/71zUAMnOH6L._AC_UL320_.jpg\n",
       "</pre>\n"
      ],
      "text/plain": [
       "[red]Failed to download:[/red] https://m.media-amazon.com/images/I/71zUAMnOH6L._AC_UL320_.jpg\n"
      ]
     },
     "metadata": {},
     "output_type": "display_data"
    },
    {
     "data": {
      "text/html": [
       "<pre style=\"white-space:pre;overflow-x:auto;line-height:normal;font-family:Menlo,'DejaVu Sans Mono',consolas,'Courier New',monospace\">[red]Failed to download:[/red] https://m.media-amazon.com/images/I/714Ppf42ZSL._AC_UL320_.jpg\n",
       "</pre>\n"
      ],
      "text/plain": [
       "[red]Failed to download:[/red] https://m.media-amazon.com/images/I/714Ppf42ZSL._AC_UL320_.jpg\n"
      ]
     },
     "metadata": {},
     "output_type": "display_data"
    },
    {
     "data": {
      "text/html": [
       "<pre style=\"white-space:pre;overflow-x:auto;line-height:normal;font-family:Menlo,'DejaVu Sans Mono',consolas,'Courier New',monospace\">[red]Failed to download:[/red] https://m.media-amazon.com/images/I/61NQ-oaR4WL._AC_UL320_.jpg\n",
       "</pre>\n"
      ],
      "text/plain": [
       "[red]Failed to download:[/red] https://m.media-amazon.com/images/I/61NQ-oaR4WL._AC_UL320_.jpg\n"
      ]
     },
     "metadata": {},
     "output_type": "display_data"
    },
    {
     "data": {
      "text/html": [
       "<pre style=\"white-space:pre;overflow-x:auto;line-height:normal;font-family:Menlo,'DejaVu Sans Mono',consolas,'Courier New',monospace\"></pre>\n"
      ],
      "text/plain": []
     },
     "metadata": {},
     "output_type": "display_data"
    },
    {
     "name": "stdout",
     "output_type": "stream",
     "text": [
      "[green]Download completed![/green]\n"
     ]
    }
   ],
   "source": [
    "# Initialize progress bar\n",
    "total_images = len(df_extracted)\n",
    "start_time = time()\n",
    "\n",
    "with Progress(\n",
    "    TextColumn(\"[bold blue]{task.description}\"),\n",
    "    BarColumn(),\n",
    "    TextColumn(\"{task.completed}/{task.total}\"),\n",
    "    TimeElapsedColumn(),\n",
    "    TimeRemainingColumn(),\n",
    "    transient=False  # Keeps progress visible after completion\n",
    ") as progress:\n",
    "    task = progress.add_task(\"Downloading Images...\", total=total_images)\n",
    "\n",
    "    for index, row in df_extracted.iterrows():\n",
    "        asin = row['asin']\n",
    "        url = row['imgUrl']\n",
    "        filename = os.path.join(save_dir, f\"{asin}.jpg\")\n",
    "\n",
    "        try:\n",
    "            response = requests.get(url, timeout=10)\n",
    "            if response.status_code == 200:\n",
    "                with open(filename, \"wb\") as file:\n",
    "                    file.write(response.content)\n",
    "        except requests.RequestException:\n",
    "            print(f\"[red]Failed to download:[/red] {url}\")\n",
    "\n",
    "        progress.update(task, advance=1)\n",
    "\n",
    "print(\"[green]Download completed![/green]\")"
   ]
  },
  {
   "cell_type": "code",
   "execution_count": 53,
   "metadata": {},
   "outputs": [
    {
     "data": {
      "text/html": [
       "<div>\n",
       "<style scoped>\n",
       "    .dataframe tbody tr th:only-of-type {\n",
       "        vertical-align: middle;\n",
       "    }\n",
       "\n",
       "    .dataframe tbody tr th {\n",
       "        vertical-align: top;\n",
       "    }\n",
       "\n",
       "    .dataframe thead th {\n",
       "        text-align: right;\n",
       "    }\n",
       "</style>\n",
       "<table border=\"1\" class=\"dataframe\">\n",
       "  <thead>\n",
       "    <tr style=\"text-align: right;\">\n",
       "      <th></th>\n",
       "      <th>asin</th>\n",
       "      <th>imgUrl</th>\n",
       "    </tr>\n",
       "  </thead>\n",
       "  <tbody>\n",
       "    <tr>\n",
       "      <th>1530964</th>\n",
       "      <td>B0CHRVR8GG</td>\n",
       "      <td>https://m.media-amazon.com/images/I/61NQ-oaR4W...</td>\n",
       "    </tr>\n",
       "  </tbody>\n",
       "</table>\n",
       "</div>"
      ],
      "text/plain": [
       "               asin                                             imgUrl\n",
       "1530964  B0CHRVR8GG  https://m.media-amazon.com/images/I/61NQ-oaR4W..."
      ]
     },
     "execution_count": 53,
     "metadata": {},
     "output_type": "execute_result"
    }
   ],
   "source": [
    "failed_rows = df_extracted[df_extracted['imgUrl'] == \"https://m.media-amazon.com/images/I/61NQ-oaR4WL._AC_UL320_.jpg\"]\n",
    "\n",
    "failed_rows.head()"
   ]
  }
 ],
 "metadata": {
  "kernelspec": {
   "display_name": ".venv",
   "language": "python",
   "name": "python3"
  },
  "language_info": {
   "codemirror_mode": {
    "name": "ipython",
    "version": 3
   },
   "file_extension": ".py",
   "mimetype": "text/x-python",
   "name": "python",
   "nbconvert_exporter": "python",
   "pygments_lexer": "ipython3",
   "version": "3.12.7"
  }
 },
 "nbformat": 4,
 "nbformat_minor": 4
}
