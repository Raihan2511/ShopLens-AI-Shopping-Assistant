{
 "cells": [
  {
   "cell_type": "code",
   "execution_count": null,
   "metadata": {},
   "outputs": [
    {
     "name": "stdout",
     "output_type": "stream",
     "text": [
      "wRZrM3g3RyKtaCEOlmCU\n"
     ]
    }
   ],
   "source": [
    "from dotenv import load_dotenv\n",
    "import os\n",
    "\n",
    "load_dotenv()\n",
    "api_key = os.getenv(\"ROBOFLOW_API_KEY\")"
   ]
  },
  {
   "cell_type": "code",
   "execution_count": 2,
   "metadata": {},
   "outputs": [
    {
     "name": "stdout",
     "output_type": "stream",
     "text": [
      "loading Roboflow workspace...\n",
      "['modanet-nvkmz/clothes-model-umnux-jpjow', 'modanet-nvkmz/my-first-project-wsrh6']\n",
      "loading Roboflow project...\n"
     ]
    },
    {
     "ename": "RuntimeError",
     "evalue": "{\n    \"error\": {\n        \"message\": \"Unsupported request. `GET /modanet-nvkmz/modanet` does not exist or cannot be loaded due to missing permissions.\",\n        \"type\": \"GraphMethodException\",\n        \"hint\": \"You can see your active workspace by issuing a GET request to `/` with your `api_key`.\"\n    }\n}",
     "output_type": "error",
     "traceback": [
      "\u001b[31m---------------------------------------------------------------------------\u001b[39m",
      "\u001b[31mRuntimeError\u001b[39m                              Traceback (most recent call last)",
      "\u001b[36mCell\u001b[39m\u001b[36m \u001b[39m\u001b[32mIn[2]\u001b[39m\u001b[32m, line 11\u001b[39m\n\u001b[32m      8\u001b[39m \u001b[38;5;28mprint\u001b[39m(workspace.projects())  \u001b[38;5;66;03m# See if \"modanet\" is listed\u001b[39;00m\n\u001b[32m     10\u001b[39m \u001b[38;5;66;03m# ✅ Load the project and check versions\u001b[39;00m\n\u001b[32m---> \u001b[39m\u001b[32m11\u001b[39m project = \u001b[43mworkspace\u001b[49m\u001b[43m.\u001b[49m\u001b[43mproject\u001b[49m\u001b[43m(\u001b[49m\u001b[33;43m\"\u001b[39;49m\u001b[33;43mmodanet\u001b[39;49m\u001b[33;43m\"\u001b[39;49m\u001b[43m)\u001b[49m\n\u001b[32m     12\u001b[39m \u001b[38;5;28mprint\u001b[39m(project.versions())  \u001b[38;5;66;03m# Ensure version 1 exists\u001b[39;00m\n\u001b[32m     14\u001b[39m \u001b[38;5;66;03m# ✅ Download the dataset\u001b[39;00m\n",
      "\u001b[36mFile \u001b[39m\u001b[32mc:\\Users\\raiha\\OneDrive\\Desktop\\AR-Shopping-Assistant\\.venv\\Lib\\site-packages\\roboflow\\core\\workspace.py:82\u001b[39m, in \u001b[36mWorkspace.project\u001b[39m\u001b[34m(self, project_name)\u001b[39m\n\u001b[32m     80\u001b[39m \u001b[38;5;66;03m# Throw error if dataset isn't valid/user doesn't have permissions to access the dataset\u001b[39;00m\n\u001b[32m     81\u001b[39m \u001b[38;5;28;01mif\u001b[39;00m dataset_info.status_code != \u001b[32m200\u001b[39m:\n\u001b[32m---> \u001b[39m\u001b[32m82\u001b[39m     \u001b[38;5;28;01mraise\u001b[39;00m \u001b[38;5;167;01mRuntimeError\u001b[39;00m(dataset_info.text)\n\u001b[32m     84\u001b[39m dataset_info = dataset_info.json()[\u001b[33m\"\u001b[39m\u001b[33mproject\u001b[39m\u001b[33m\"\u001b[39m]\n\u001b[32m     86\u001b[39m \u001b[38;5;28;01mreturn\u001b[39;00m Project(\u001b[38;5;28mself\u001b[39m.__api_key, dataset_info, \u001b[38;5;28mself\u001b[39m.model_format)\n",
      "\u001b[31mRuntimeError\u001b[39m: {\n    \"error\": {\n        \"message\": \"Unsupported request. `GET /modanet-nvkmz/modanet` does not exist or cannot be loaded due to missing permissions.\",\n        \"type\": \"GraphMethodException\",\n        \"hint\": \"You can see your active workspace by issuing a GET request to `/` with your `api_key`.\"\n    }\n}"
     ]
    }
   ],
   "source": [
    "from roboflow import Roboflow\n",
    "\n",
    "# Initialize Roboflow with your API key\n",
    "rf = Roboflow(api_key=api_key)\n",
    "\n",
    "# ✅ Check if the project exists\n",
    "workspace = rf.workspace()\n",
    "print(workspace.projects())  # See if \"modanet\" is listed\n",
    "\n",
    "# ✅ Load the project and check versions\n",
    "project = workspace.project(\"modanet\")\n",
    "print(project.versions())  # Ensure version 1 exists\n",
    "\n",
    "# ✅ Download the dataset\n",
    "dataset = project.version(1).download(\"coco\")\n"
   ]
  },
  {
   "cell_type": "code",
   "execution_count": 3,
   "metadata": {},
   "outputs": [],
   "source": [
    "dataset_path = \"modanet/train\"\n",
    "annotation_path = \"modanet/_annotations.coco.json\"\n"
   ]
  },
  {
   "cell_type": "code",
   "execution_count": 4,
   "metadata": {},
   "outputs": [
    {
     "name": "stderr",
     "output_type": "stream",
     "text": [
      "TqdmWarning: IProgress not found. Please update jupyter and ipywidgets. See https://ipywidgets.readthedocs.io/en/stable/user_install.html\n"
     ]
    }
   ],
   "source": [
    "from torchvision import transforms\n",
    "\n",
    "# Define transformations\n",
    "transform = transforms.Compose([\n",
    "    transforms.Resize((256, 256)),  # Resize to 256x256\n",
    "    transforms.RandomHorizontalFlip(p=0.5),  # Flip 50% of the time\n",
    "    transforms.ColorJitter(brightness=0.2, contrast=0.2, saturation=0.2, hue=0.1), # Color jitter\n",
    "    transforms.RandomRotation(15),  # Rotate by ±15 degrees\n",
    "    transforms.ToTensor(),  # Convert to tensor\n",
    "    transforms.Normalize(mean=[0.485, 0.456, 0.406], std=[0.229, 0.224, 0.225])  # Normalize\n",
    "])\n"
   ]
  },
  {
   "cell_type": "code",
   "execution_count": null,
   "metadata": {},
   "outputs": [],
   "source": [
    "import json\n",
    "from torchvision.datasets import CocoDetection\n",
    "from torch.utils.data import DataLoader\n",
    "from torchvision.transforms import functional as F\n",
    "\n",
    "# Resize bounding boxes and masks\n",
    "def resize_bounding_boxes(boxes, original_size, new_size):\n",
    "    orig_w, orig_h = original_size\n",
    "    new_w, new_h = new_size\n",
    "    scale_x = new_w / orig_w\n",
    "    scale_y = new_h / orig_h\n",
    "    \n",
    "    new_boxes = []\n",
    "    for box in boxes:\n",
    "        x1, y1, w, h = box\n",
    "        new_x1 = x1 * scale_x\n",
    "        new_y1 = y1 * scale_y\n",
    "        new_w = w * scale_x\n",
    "        new_h = h * scale_y\n",
    "        new_boxes.append([new_x1, new_y1, new_w, new_h])\n",
    "    \n",
    "    return new_boxes\n",
    "\n",
    "class ModaNetDataset(CocoDetection):\n",
    "    def __getitem__(self, index):\n",
    "        img, target = super().__getitem__(index)\n",
    "\n",
    "        # Resize image\n",
    "        img = F.resize(img, (256, 256))\n",
    "\n",
    "        # Resize bounding boxes\n",
    "        boxes = [obj[\"bbox\"] for obj in target]\n",
    "        original_size = img.size\n",
    "        new_size = (256, 256)\n",
    "        resized_boxes = resize_bounding_boxes(boxes, original_size, new_size)\n",
    "\n",
    "        # Update target with resized boxes\n",
    "        for i, obj in enumerate(target):\n",
    "            obj[\"bbox\"] = resized_boxes[i]\n",
    "\n",
    "        # Apply transforms\n",
    "        img = transform(img)\n",
    "\n",
    "        return img, target\n",
    "\n",
    "# Load dataset\n",
    "dataset = ModaNetDataset(\n",
    "    root=dataset_path,\n",
    "    annFile=annotation_path\n",
    ")\n",
    "\n",
    "# DataLoader\n",
    "data_loader = DataLoader(\n",
    "    dataset,\n",
    "    batch_size=4,\n",
    "    shuffle=True,\n",
    "    collate_fn=lambda x: tuple(zip(*x))\n",
    ")\n"
   ]
  },
  {
   "cell_type": "code",
   "execution_count": null,
   "metadata": {},
   "outputs": [],
   "source": [
    "import torchvision\n",
    "from torchvision.models.detection import maskrcnn_resnet50_fpn\n",
    "\n",
    "def get_model():\n",
    "    model = maskrcnn_resnet50_fpn(pretrained=True)\n",
    "    \n",
    "    # Modify classifier for 13 classes + background\n",
    "    num_classes = 14\n",
    "    in_features = model.roi_heads.box_predictor.cls_score.in_features\n",
    "    model.roi_heads.box_predictor = torchvision.models.detection.faster_rcnn.FastRCNNPredictor(\n",
    "        in_features, num_classes\n",
    "    )\n",
    "\n",
    "    # Modify mask predictor\n",
    "    model.roi_heads.mask_predictor = torchvision.models.detection.mask_rcnn.MaskRCNNPredictor(\n",
    "        model.roi_heads.mask_predictor.conv5_mask.in_channels,\n",
    "        256,\n",
    "        num_classes\n",
    "    )\n",
    "    \n",
    "    return model\n"
   ]
  },
  {
   "cell_type": "code",
   "execution_count": null,
   "metadata": {},
   "outputs": [],
   "source": [
    "import torch\n",
    "from engine import train_one_epoch, evaluate\n",
    "\n",
    "device = torch.device(\"cuda\" if torch.cuda.is_available() else \"cpu\")\n",
    "\n",
    "# Load model\n",
    "model = get_model()\n",
    "model.to(device)\n",
    "\n",
    "# Optimizer\n",
    "optimizer = torch.optim.SGD(model.parameters(), lr=0.005,\n",
    "                             momentum=0.9, weight_decay=0.0005)\n",
    "\n",
    "# Learning rate scheduler\n",
    "lr_scheduler = torch.optim.lr_scheduler.StepLR(optimizer, step_size=3, gamma=0.1)\n",
    "\n",
    "# Training loop\n",
    "num_epochs = 5\n",
    "for epoch in range(num_epochs):\n",
    "    train_one_epoch(model, optimizer, data_loader, device, epoch, print_freq=10)\n",
    "    lr_scheduler.step()\n",
    "    evaluate(model, data_loader, device=device)\n"
   ]
  },
  {
   "cell_type": "code",
   "execution_count": null,
   "metadata": {},
   "outputs": [],
   "source": [
    "from PIL import Image\n",
    "import matplotlib.pyplot as plt\n",
    "\n",
    "# Load trained model\n",
    "model.eval()\n",
    "\n",
    "# Load image\n",
    "image = Image.open(\"path/to/image.jpg\").convert(\"RGB\")\n",
    "img_tensor = transform(image).unsqueeze(0).to(device)\n",
    "\n",
    "# Run inference\n",
    "with torch.no_grad():\n",
    "    output = model(img_tensor)[0]\n",
    "\n",
    "# Display result\n",
    "fig, ax = plt.subplots(1, figsize=(10, 10))\n",
    "ax.imshow(image)\n",
    "\n",
    "# Draw boxes and masks\n",
    "for box, mask, score, label in zip(output[\"boxes\"], output[\"masks\"], output[\"scores\"], output[\"labels\"]):\n",
    "    if score > 0.5:\n",
    "        x1, y1, x2, y2 = box\n",
    "        ax.add_patch(plt.Rectangle(\n",
    "            (x1, y1), x2 - x1, y2 - y1,\n",
    "            fill=False, color='red', linewidth=2\n",
    "        ))\n",
    "        mask = mask.squeeze().cpu().numpy()\n",
    "        ax.imshow(mask, alpha=0.5, cmap='gray')\n",
    "\n",
    "plt.show()\n"
   ]
  },
  {
   "cell_type": "code",
   "execution_count": null,
   "metadata": {},
   "outputs": [],
   "source": [
    "CLASSES = [\n",
    "    \"__background__\", \"hat\", \"sunglasses\", \"upper-clothes\", \"skirt\", \n",
    "    \"pants\", \"dress\", \"belt\", \"shoe\", \"bag\", \"scarf\", \"jumpsuit\", \"socks\", \"gloves\"\n",
    "]\n"
   ]
  }
 ],
 "metadata": {
  "kernelspec": {
   "display_name": ".venv",
   "language": "python",
   "name": "python3"
  },
  "language_info": {
   "codemirror_mode": {
    "name": "ipython",
    "version": 3
   },
   "file_extension": ".py",
   "mimetype": "text/x-python",
   "name": "python",
   "nbconvert_exporter": "python",
   "pygments_lexer": "ipython3",
   "version": "3.12.9"
  }
 },
 "nbformat": 4,
 "nbformat_minor": 2
}
