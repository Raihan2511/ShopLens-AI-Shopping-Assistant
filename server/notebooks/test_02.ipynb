{
 "cells": [
  {
   "cell_type": "code",
   "execution_count": null,
   "metadata": {},
   "outputs": [],
   "source": [
    "import os\n",
    "import gdown\n",
    "\n",
    "# Create dataset directory\n",
    "os.makedirs(\"datasets/deepfashion2\", exist_ok=True)\n",
    "\n",
    "# Google Drive links (example)\n",
    "data_url = \"https://drive.google.com/uc?id=1G1iAM1QIyY5fGvf6-Pa3pa8vLfKMybEj\"\n",
    "\n",
    "# Download dataset\n",
    "gdown.download(data_url, \"datasets/deepfashion2.zip\", quiet=False)\n",
    "\n",
    "# Unzip dataset\n",
    "import zipfile\n",
    "\n",
    "with zipfile.ZipFile(\"datasets/deepfashion2.zip\", \"r\") as zip_ref:\n",
    "    zip_ref.extractall(\"datasets/deepfashion2\")\n",
    "\n",
    "print(\"DeepFashion2 dataset downloaded and extracted!\")\n"
   ]
  }
 ],
 "metadata": {
  "language_info": {
   "name": "python"
  }
 },
 "nbformat": 4,
 "nbformat_minor": 2
}
