{
 "cells": [
  {
   "cell_type": "markdown",
   "metadata": {},
   "source": [
    "#### ✅ Step 1.2: Preprocess the ModaNet Dataset"
   ]
  },
  {
   "cell_type": "code",
   "execution_count": null,
   "metadata": {},
   "outputs": [],
   "source": [
    "import json\n",
    "import cv2\n",
    "import numpy as np\n",
    "import os\n",
    "\n",
    "DATASET_PATH = './ModaNet/annotations'\n",
    "IMG_PATH = './ModaNet/images'\n",
    "\n",
    "with open(os.path.join(DATASET_PATH, 'modanet.json')) as f:\n",
    "    annotations = json.load(f)\n",
    "\n",
    "# Example for bounding boxes and masks\n",
    "for ann in annotations['annotations']:\n",
    "    img_id = ann['image_id']\n",
    "    bbox = ann['bbox']  # [x, y, width, height]\n",
    "    segmentation = ann['segmentation']  # Polygon points\n",
    "\n",
    "    img = cv2.imread(os.path.join(IMG_PATH, f\"{img_id}.jpg\"))\n",
    "    x, y, w, h = bbox\n",
    "    cv2.rectangle(img, (x, y), (x + w, y + h), (255, 0, 0), 2)\n",
    "\n",
    "    mask = np.zeros(img.shape[:2], dtype=np.uint8)\n",
    "    for seg in segmentation:\n",
    "        points = np.array(seg, np.int32).reshape((-1, 2))\n",
    "        cv2.fillPoly(mask, [points], (255))\n",
    "\n",
    "    cv2.imshow('Image with Mask', mask)\n",
    "    cv2.waitKey(0)\n",
    "    cv2.destroyAllWindows()"
   ]
  },
  {
   "cell_type": "markdown",
   "metadata": {},
   "source": [
    "#### ✅ Step 1.3: Train Faster R-CNN + Mask R-CNN (PyTorch)\n"
   ]
  },
  {
   "cell_type": "code",
   "execution_count": null,
   "metadata": {},
   "outputs": [],
   "source": [
    "from detectron2.engine import DefaultTrainer\n",
    "from detectron2.config import get_cfg\n",
    "from detectron2 import model_zoo\n",
    "\n",
    "cfg = get_cfg()\n",
    "cfg.merge_from_file(model_zoo.get_config_file(\"COCO-InstanceSegmentation/mask_rcnn_R_50_FPN_3x.yaml\"))\n",
    "cfg.DATASETS.TRAIN = (\"modanet_train\",)\n",
    "cfg.DATASETS.TEST = (\"modanet_val\",)\n",
    "cfg.MODEL.WEIGHTS = model_zoo.get_checkpoint_url(\"COCO-InstanceSegmentation/mask_rcnn_R_50_FPN_3x.yaml\")\n",
    "\n",
    "trainer = DefaultTrainer(cfg) \n",
    "trainer.resume_or_load(resume=False)\n",
    "trainer.train()\n"
   ]
  },
  {
   "cell_type": "markdown",
   "metadata": {},
   "source": [
    "✅ Step 1.4: Test the Model\n"
   ]
  },
  {
   "cell_type": "code",
   "execution_count": null,
   "metadata": {},
   "outputs": [],
   "source": [
    "from detectron2.engine import DefaultPredictor\n",
    "\n",
    "predictor = DefaultPredictor(cfg)\n",
    "output = predictor(img)\n",
    "\n",
    "# Visualize results\n",
    "from detectron2.utils.visualizer import Visualizer\n",
    "v = Visualizer(img[:, :, ::-1])\n",
    "v = v.draw_instance_predictions(output[\"instances\"].to(\"cpu\"))\n",
    "cv2.imshow(\"Prediction\", v.get_image()[:, :, ::-1])\n",
    "cv2.waitKey(0)\n"
   ]
  }
 ],
 "metadata": {
  "language_info": {
   "name": "python"
  }
 },
 "nbformat": 4,
 "nbformat_minor": 2
}
