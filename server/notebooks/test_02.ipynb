{
 "cells": [
  {
   "cell_type": "markdown",
   "metadata": {},
   "source": [
    "#### 📝 Step 3.1: Convert shape_ann/ and texture_ann/ to YOLO Format\n",
    "\n"
   ]
  },
  {
   "cell_type": "code",
   "execution_count": 1,
   "metadata": {},
   "outputs": [
    {
     "name": "stderr",
     "output_type": "stream",
     "text": [
      "Processing annotations: 100%|██████████| 3/3 [00:00<00:00, 41.39it/s]\n",
      "Processing annotations: 100%|██████████| 3/3 [00:00<00:00, 82.20it/s]\n",
      "Processing annotations: 100%|██████████| 4/4 [00:00<00:00, 66.28it/s]\n",
      "Processing annotations: 100%|██████████| 3/3 [00:00<00:00, 44.84it/s]"
     ]
    },
    {
     "name": "stdout",
     "output_type": "stream",
     "text": [
      "✅ Annotations converted! YOLO labels saved in 'labels_yolo/' folder.\n"
     ]
    },
    {
     "name": "stderr",
     "output_type": "stream",
     "text": [
      "\n"
     ]
    }
   ],
   "source": [
    "import os\n",
    "from tqdm import tqdm  # For progress bar\n",
    "\n",
    "# 🔹 Define Paths\n",
    "dataset_path = r\"C:\\Users\\raiha\\OneDrive\\Desktop\\cv_dataset\\deepfashion2\"\n",
    "texture_ann_path = os.path.join(dataset_path, \"texture_ann\")\n",
    "shape_ann_path = os.path.join(dataset_path, \"shape_ann\")\n",
    "\n",
    "# YOLO Output Folder\n",
    "labels_yolo_path = os.path.join(dataset_path, \"labels_yolo\")\n",
    "os.makedirs(labels_yolo_path, exist_ok=True)\n",
    "\n",
    "# 🔹 Convert Bounding Box to YOLO Format\n",
    "def convert_bbox_to_yolo(x, y, w, h, img_w, img_h):\n",
    "    \"\"\"Convert absolute bbox coordinates to YOLO format (normalized).\"\"\"\n",
    "    x_center = (x + w / 2) / img_w\n",
    "    y_center = (y + h / 2) / img_h\n",
    "    w_norm = w / img_w\n",
    "    h_norm = h / img_h\n",
    "    return x_center, y_center, w_norm, h_norm\n",
    "\n",
    "# 🔹 Function to Process Annotations\n",
    "def process_annotations(ann_path, label_folder, img_w, img_h, prefix=\"\"):\n",
    "    os.makedirs(label_folder, exist_ok=True)\n",
    "    for ann_file in tqdm(os.listdir(ann_path), desc=f\"Processing {prefix}annotations\"):\n",
    "        if ann_file.endswith(\".txt\"):\n",
    "            ann_file_path = os.path.join(ann_path, ann_file)\n",
    "            label_file_path = os.path.join(label_folder, f\"{prefix}{ann_file}\")\n",
    "\n",
    "            try:\n",
    "                with open(ann_file_path, \"r\") as f, open(label_file_path, \"w\") as yolo_f:\n",
    "                    for line in f.readlines():\n",
    "                        data = line.strip().split()\n",
    "                        if len(data) < 5:\n",
    "                            continue  # Skip invalid lines\n",
    "\n",
    "                        # 🔹 Check if first element is an integer (class ID)\n",
    "                        try:\n",
    "                            class_id = int(data[0])  # Class ID\n",
    "                        except ValueError:\n",
    "                            continue  # Skip if not an integer (image filename detected)\n",
    "\n",
    "                        # Bounding box values\n",
    "                        x, y, w, h = map(float, data[1:5])\n",
    "\n",
    "                        # Convert to YOLO format\n",
    "                        x_center, y_center, w_norm, h_norm = convert_bbox_to_yolo(\n",
    "                            x, y, w, h, img_w, img_h\n",
    "                        )\n",
    "\n",
    "                        # Save YOLO annotation\n",
    "                        yolo_f.write(f\"{class_id} {x_center:.6f} {y_center:.6f} {w_norm:.6f} {h_norm:.6f}\\n\")\n",
    "            except Exception as e:\n",
    "                print(f\"Error processing {ann_file}: {e}\")\n",
    "\n",
    "# 🔹 Process Texture Annotations\n",
    "for subset in [\"train\", \"val\", \"test\"]:\n",
    "    ann_subset_path = os.path.join(texture_ann_path, subset)\n",
    "    labels_subset_path = os.path.join(labels_yolo_path, f\"texture_{subset}\")\n",
    "    process_annotations(ann_subset_path, labels_subset_path, img_w=256, img_h=256)\n",
    "\n",
    "# 🔹 Process Shape Annotations\n",
    "process_annotations(shape_ann_path, os.path.join(labels_yolo_path, \"shape_\"), img_w=256, img_h=256)\n",
    "\n",
    "print(\"✅ Annotations converted! YOLO labels saved in 'labels_yolo/' folder.\")\n"
   ]
  },
  {
   "cell_type": "code",
   "execution_count": 1,
   "metadata": {},
   "outputs": [
    {
     "name": "stdout",
     "output_type": "stream",
     "text": [
      "Downloading https://github.com/ultralytics/assets/releases/download/v8.3.0/yolov8m.pt to 'yolov8m.pt'...\n"
     ]
    },
    {
     "name": "stderr",
     "output_type": "stream",
     "text": [
      "100%|██████████| 49.7M/49.7M [04:24<00:00, 197kB/s] \n"
     ]
    },
    {
     "name": "stdout",
     "output_type": "stream",
     "text": [
      "New https://pypi.org/project/ultralytics/8.3.101 available  Update with 'pip install -U ultralytics'\n",
      "Ultralytics 8.3.97  Python-3.12.9 torch-2.2.1+cpu CPU (AMD Ryzen 5 5500U with Radeon Graphics)\n",
      "\u001b[34m\u001b[1mengine\\trainer: \u001b[0mtask=detect, mode=train, model=yolov8m.pt, data=C:\\Users\\raiha\\OneDrive\\Desktop\\cv_dataset\\deepfashion2\\deepfashion2.yaml, epochs=3, time=None, patience=100, batch=16, imgsz=320, save=True, save_period=-1, cache=False, device=None, workers=8, project=None, name=train10, exist_ok=False, pretrained=True, optimizer=auto, verbose=True, seed=0, deterministic=True, single_cls=False, rect=False, cos_lr=False, close_mosaic=10, resume=False, amp=True, fraction=1.0, profile=False, freeze=None, multi_scale=False, overlap_mask=True, mask_ratio=4, dropout=0.0, val=True, split=val, save_json=False, save_hybrid=False, conf=None, iou=0.7, max_det=300, half=False, dnn=False, plots=True, source=None, vid_stride=1, stream_buffer=False, visualize=False, augment=False, agnostic_nms=False, classes=None, retina_masks=False, embed=None, show=False, save_frames=False, save_txt=False, save_conf=False, save_crop=False, show_labels=True, show_conf=True, show_boxes=True, line_width=None, format=torchscript, keras=False, optimize=False, int8=False, dynamic=False, simplify=True, opset=None, workspace=None, nms=False, lr0=0.01, lrf=0.01, momentum=0.937, weight_decay=0.0005, warmup_epochs=3.0, warmup_momentum=0.8, warmup_bias_lr=0.1, box=7.5, cls=0.5, dfl=1.5, pose=12.0, kobj=1.0, nbs=64, hsv_h=0.015, hsv_s=0.7, hsv_v=0.4, degrees=0.0, translate=0.1, scale=0.5, shear=0.0, perspective=0.0, flipud=0.0, fliplr=0.5, bgr=0.0, mosaic=1.0, mixup=0.0, copy_paste=0.0, copy_paste_mode=flip, auto_augment=randaugment, erasing=0.4, crop_fraction=1.0, cfg=None, tracker=botsort.yaml, save_dir=c:\\Users\\raiha\\OneDrive\\Desktop\\AR-Shopping-Assistant\\runs\\detect\\train10\n",
      "Overriding model.yaml nc=80 with nc=18\n",
      "\n",
      "                   from  n    params  module                                       arguments                     \n",
      "  0                  -1  1      1392  ultralytics.nn.modules.conv.Conv             [3, 48, 3, 2]                 \n",
      "  1                  -1  1     41664  ultralytics.nn.modules.conv.Conv             [48, 96, 3, 2]                \n",
      "  2                  -1  2    111360  ultralytics.nn.modules.block.C2f             [96, 96, 2, True]             \n",
      "  3                  -1  1    166272  ultralytics.nn.modules.conv.Conv             [96, 192, 3, 2]               \n",
      "  4                  -1  4    813312  ultralytics.nn.modules.block.C2f             [192, 192, 4, True]           \n",
      "  5                  -1  1    664320  ultralytics.nn.modules.conv.Conv             [192, 384, 3, 2]              \n",
      "  6                  -1  4   3248640  ultralytics.nn.modules.block.C2f             [384, 384, 4, True]           \n",
      "  7                  -1  1   1991808  ultralytics.nn.modules.conv.Conv             [384, 576, 3, 2]              \n",
      "  8                  -1  2   3985920  ultralytics.nn.modules.block.C2f             [576, 576, 2, True]           \n",
      "  9                  -1  1    831168  ultralytics.nn.modules.block.SPPF            [576, 576, 5]                 \n",
      " 10                  -1  1         0  torch.nn.modules.upsampling.Upsample         [None, 2, 'nearest']          \n",
      " 11             [-1, 6]  1         0  ultralytics.nn.modules.conv.Concat           [1]                           \n",
      " 12                  -1  2   1993728  ultralytics.nn.modules.block.C2f             [960, 384, 2]                 \n",
      " 13                  -1  1         0  torch.nn.modules.upsampling.Upsample         [None, 2, 'nearest']          \n",
      " 14             [-1, 4]  1         0  ultralytics.nn.modules.conv.Concat           [1]                           \n",
      " 15                  -1  2    517632  ultralytics.nn.modules.block.C2f             [576, 192, 2]                 \n",
      " 16                  -1  1    332160  ultralytics.nn.modules.conv.Conv             [192, 192, 3, 2]              \n",
      " 17            [-1, 12]  1         0  ultralytics.nn.modules.conv.Concat           [1]                           \n",
      " 18                  -1  2   1846272  ultralytics.nn.modules.block.C2f             [576, 384, 2]                 \n",
      " 19                  -1  1   1327872  ultralytics.nn.modules.conv.Conv             [384, 384, 3, 2]              \n",
      " 20             [-1, 9]  1         0  ultralytics.nn.modules.conv.Concat           [1]                           \n",
      " 21                  -1  2   4207104  ultralytics.nn.modules.block.C2f             [960, 576, 2]                 \n",
      " 22        [15, 18, 21]  1   3786118  ultralytics.nn.modules.head.Detect           [18, [192, 384, 576]]         \n",
      "Model summary: 169 layers, 25,866,742 parameters, 25,866,726 gradients, 79.1 GFLOPs\n",
      "\n",
      "Transferred 469/475 items from pretrained weights\n",
      "\u001b[34m\u001b[1mTensorBoard: \u001b[0mStart with 'tensorboard --logdir c:\\Users\\raiha\\OneDrive\\Desktop\\AR-Shopping-Assistant\\runs\\detect\\train10', view at http://localhost:6006/\n",
      "Freezing layer 'model.22.dfl.conv.weight'\n"
     ]
    },
    {
     "name": "stderr",
     "output_type": "stream",
     "text": [
      "\u001b[34m\u001b[1mtrain: \u001b[0mScanning C:\\Users\\raiha\\OneDrive\\Desktop\\cv_dataset\\deepfashion2\\train_images.cache... 0 images, 10335 backgrounds, 0 corrupt: 100%|██████████| 10335/10335 [00:00<?, ?it/s]"
     ]
    },
    {
     "name": "stdout",
     "output_type": "stream",
     "text": [
      "WARNING  No labels found in C:\\Users\\raiha\\OneDrive\\Desktop\\cv_dataset\\deepfashion2\\train_images.cache, training may not work correctly. See https://docs.ultralytics.com/datasets for dataset formatting guidance.\n"
     ]
    },
    {
     "name": "stderr",
     "output_type": "stream",
     "text": [
      "\n",
      "\u001b[34m\u001b[1mval: \u001b[0mScanning C:\\Users\\raiha\\OneDrive\\Desktop\\cv_dataset\\deepfashion2\\test_images.cache... 0 images, 1149 backgrounds, 0 corrupt: 100%|██████████| 1149/1149 [00:00<?, ?it/s]"
     ]
    },
    {
     "name": "stdout",
     "output_type": "stream",
     "text": [
      "WARNING  No labels found in C:\\Users\\raiha\\OneDrive\\Desktop\\cv_dataset\\deepfashion2\\test_images.cache, training may not work correctly. See https://docs.ultralytics.com/datasets for dataset formatting guidance.\n"
     ]
    },
    {
     "name": "stderr",
     "output_type": "stream",
     "text": [
      "\n"
     ]
    },
    {
     "name": "stdout",
     "output_type": "stream",
     "text": [
      "Plotting labels to c:\\Users\\raiha\\OneDrive\\Desktop\\AR-Shopping-Assistant\\runs\\detect\\train10\\labels.jpg... \n",
      "zero-size array to reduction operation maximum which has no identity\n",
      "\u001b[34m\u001b[1moptimizer:\u001b[0m 'optimizer=auto' found, ignoring 'lr0=0.01' and 'momentum=0.937' and determining best 'optimizer', 'lr0' and 'momentum' automatically... \n",
      "\u001b[34m\u001b[1moptimizer:\u001b[0m AdamW(lr=0.000455, momentum=0.9) with parameter groups 77 weight(decay=0.0), 84 weight(decay=0.0005), 83 bias(decay=0.0)\n",
      "\u001b[34m\u001b[1mTensorBoard: \u001b[0mmodel graph visualization added \n",
      "Image sizes 320 train, 320 val\n",
      "Using 0 dataloader workers\n",
      "Logging results to \u001b[1mc:\\Users\\raiha\\OneDrive\\Desktop\\AR-Shopping-Assistant\\runs\\detect\\train10\u001b[0m\n",
      "Starting training for 3 epochs...\n",
      "\n",
      "      Epoch    GPU_mem   box_loss   cls_loss   dfl_loss  Instances       Size\n"
     ]
    },
    {
     "name": "stderr",
     "output_type": "stream",
     "text": [
      "        1/3         0G          0      6.341          0          0        320: 100%|██████████| 646/646 [2:21:20<00:00, 13.13s/it]   \n",
      "                 Class     Images  Instances      Box(P          R      mAP50  mAP50-95): 100%|██████████| 36/36 [01:58<00:00,  3.29s/it]\n"
     ]
    },
    {
     "ename": "RuntimeError",
     "evalue": "torch.cat(): expected a non-empty list of Tensors",
     "output_type": "error",
     "traceback": [
      "\u001b[31m---------------------------------------------------------------------------\u001b[39m",
      "\u001b[31mRuntimeError\u001b[39m                              Traceback (most recent call last)",
      "\u001b[36mCell\u001b[39m\u001b[36m \u001b[39m\u001b[32mIn[1]\u001b[39m\u001b[32m, line 7\u001b[39m\n\u001b[32m      4\u001b[39m model = YOLO(\u001b[33m\"\u001b[39m\u001b[33myolov8m.pt\u001b[39m\u001b[33m\"\u001b[39m)  \u001b[38;5;66;03m# You can also use 'yolov8m.pt' or 'yolov8l.pt'\u001b[39;00m\n\u001b[32m      6\u001b[39m \u001b[38;5;66;03m# Train the model on DeepFashion2 dataset\u001b[39;00m\n\u001b[32m----> \u001b[39m\u001b[32m7\u001b[39m \u001b[43mmodel\u001b[49m\u001b[43m.\u001b[49m\u001b[43mtrain\u001b[49m\u001b[43m(\u001b[49m\u001b[43mdata\u001b[49m\u001b[43m=\u001b[49m\u001b[33;43mr\u001b[39;49m\u001b[33;43m\"\u001b[39;49m\u001b[33;43mC:\u001b[39;49m\u001b[33;43m\\\u001b[39;49m\u001b[33;43mUsers\u001b[39;49m\u001b[33;43m\\\u001b[39;49m\u001b[33;43mraiha\u001b[39;49m\u001b[33;43m\\\u001b[39;49m\u001b[33;43mOneDrive\u001b[39;49m\u001b[33;43m\\\u001b[39;49m\u001b[33;43mDesktop\u001b[39;49m\u001b[33;43m\\\u001b[39;49m\u001b[33;43mcv_dataset\u001b[39;49m\u001b[33;43m\\\u001b[39;49m\u001b[33;43mdeepfashion2\u001b[39;49m\u001b[33;43m\\\u001b[39;49m\u001b[33;43mdeepfashion2.yaml\u001b[39;49m\u001b[33;43m\"\u001b[39;49m\u001b[43m,\u001b[49m\u001b[43m \u001b[49m\u001b[43mepochs\u001b[49m\u001b[43m=\u001b[49m\u001b[32;43m3\u001b[39;49m\u001b[43m,\u001b[49m\u001b[43m \u001b[49m\u001b[43mimgsz\u001b[49m\u001b[43m=\u001b[49m\u001b[32;43m320\u001b[39;49m\u001b[43m)\u001b[49m\n",
      "\u001b[36mFile \u001b[39m\u001b[32mc:\\Users\\raiha\\OneDrive\\Desktop\\AR-Shopping-Assistant\\.venv\\Lib\\site-packages\\ultralytics\\engine\\model.py:791\u001b[39m, in \u001b[36mModel.train\u001b[39m\u001b[34m(self, trainer, **kwargs)\u001b[39m\n\u001b[32m    788\u001b[39m     \u001b[38;5;28mself\u001b[39m.model = \u001b[38;5;28mself\u001b[39m.trainer.model\n\u001b[32m    790\u001b[39m \u001b[38;5;28mself\u001b[39m.trainer.hub_session = \u001b[38;5;28mself\u001b[39m.session  \u001b[38;5;66;03m# attach optional HUB session\u001b[39;00m\n\u001b[32m--> \u001b[39m\u001b[32m791\u001b[39m \u001b[38;5;28;43mself\u001b[39;49m\u001b[43m.\u001b[49m\u001b[43mtrainer\u001b[49m\u001b[43m.\u001b[49m\u001b[43mtrain\u001b[49m\u001b[43m(\u001b[49m\u001b[43m)\u001b[49m\n\u001b[32m    792\u001b[39m \u001b[38;5;66;03m# Update model and cfg after training\u001b[39;00m\n\u001b[32m    793\u001b[39m \u001b[38;5;28;01mif\u001b[39;00m RANK \u001b[38;5;129;01min\u001b[39;00m {-\u001b[32m1\u001b[39m, \u001b[32m0\u001b[39m}:\n",
      "\u001b[36mFile \u001b[39m\u001b[32mc:\\Users\\raiha\\OneDrive\\Desktop\\AR-Shopping-Assistant\\.venv\\Lib\\site-packages\\ultralytics\\engine\\trainer.py:211\u001b[39m, in \u001b[36mBaseTrainer.train\u001b[39m\u001b[34m(self)\u001b[39m\n\u001b[32m    208\u001b[39m         ddp_cleanup(\u001b[38;5;28mself\u001b[39m, \u001b[38;5;28mstr\u001b[39m(file))\n\u001b[32m    210\u001b[39m \u001b[38;5;28;01melse\u001b[39;00m:\n\u001b[32m--> \u001b[39m\u001b[32m211\u001b[39m     \u001b[38;5;28;43mself\u001b[39;49m\u001b[43m.\u001b[49m\u001b[43m_do_train\u001b[49m\u001b[43m(\u001b[49m\u001b[43mworld_size\u001b[49m\u001b[43m)\u001b[49m\n",
      "\u001b[36mFile \u001b[39m\u001b[32mc:\\Users\\raiha\\OneDrive\\Desktop\\AR-Shopping-Assistant\\.venv\\Lib\\site-packages\\ultralytics\\engine\\trainer.py:436\u001b[39m, in \u001b[36mBaseTrainer._do_train\u001b[39m\u001b[34m(self, world_size)\u001b[39m\n\u001b[32m    434\u001b[39m \u001b[38;5;66;03m# Validation\u001b[39;00m\n\u001b[32m    435\u001b[39m \u001b[38;5;28;01mif\u001b[39;00m \u001b[38;5;28mself\u001b[39m.args.val \u001b[38;5;129;01mor\u001b[39;00m final_epoch \u001b[38;5;129;01mor\u001b[39;00m \u001b[38;5;28mself\u001b[39m.stopper.possible_stop \u001b[38;5;129;01mor\u001b[39;00m \u001b[38;5;28mself\u001b[39m.stop:\n\u001b[32m--> \u001b[39m\u001b[32m436\u001b[39m     \u001b[38;5;28mself\u001b[39m.metrics, \u001b[38;5;28mself\u001b[39m.fitness = \u001b[38;5;28;43mself\u001b[39;49m\u001b[43m.\u001b[49m\u001b[43mvalidate\u001b[49m\u001b[43m(\u001b[49m\u001b[43m)\u001b[49m\n\u001b[32m    437\u001b[39m \u001b[38;5;28mself\u001b[39m.save_metrics(metrics={**\u001b[38;5;28mself\u001b[39m.label_loss_items(\u001b[38;5;28mself\u001b[39m.tloss), **\u001b[38;5;28mself\u001b[39m.metrics, **\u001b[38;5;28mself\u001b[39m.lr})\n\u001b[32m    438\u001b[39m \u001b[38;5;28mself\u001b[39m.stop |= \u001b[38;5;28mself\u001b[39m.stopper(epoch + \u001b[32m1\u001b[39m, \u001b[38;5;28mself\u001b[39m.fitness) \u001b[38;5;129;01mor\u001b[39;00m final_epoch\n",
      "\u001b[36mFile \u001b[39m\u001b[32mc:\\Users\\raiha\\OneDrive\\Desktop\\AR-Shopping-Assistant\\.venv\\Lib\\site-packages\\ultralytics\\engine\\trainer.py:627\u001b[39m, in \u001b[36mBaseTrainer.validate\u001b[39m\u001b[34m(self)\u001b[39m\n\u001b[32m    620\u001b[39m \u001b[38;5;28;01mdef\u001b[39;00m\u001b[38;5;250m \u001b[39m\u001b[34mvalidate\u001b[39m(\u001b[38;5;28mself\u001b[39m):\n\u001b[32m    621\u001b[39m \u001b[38;5;250m    \u001b[39m\u001b[33;03m\"\"\"\u001b[39;00m\n\u001b[32m    622\u001b[39m \u001b[33;03m    Run validation on test set using self.validator.\u001b[39;00m\n\u001b[32m    623\u001b[39m \n\u001b[32m    624\u001b[39m \u001b[33;03m    Returns:\u001b[39;00m\n\u001b[32m    625\u001b[39m \u001b[33;03m        (tuple): A tuple containing metrics dictionary and fitness score.\u001b[39;00m\n\u001b[32m    626\u001b[39m \u001b[33;03m    \"\"\"\u001b[39;00m\n\u001b[32m--> \u001b[39m\u001b[32m627\u001b[39m     metrics = \u001b[38;5;28;43mself\u001b[39;49m\u001b[43m.\u001b[49m\u001b[43mvalidator\u001b[49m\u001b[43m(\u001b[49m\u001b[38;5;28;43mself\u001b[39;49m\u001b[43m)\u001b[49m\n\u001b[32m    628\u001b[39m     fitness = metrics.pop(\u001b[33m\"\u001b[39m\u001b[33mfitness\u001b[39m\u001b[33m\"\u001b[39m, -\u001b[38;5;28mself\u001b[39m.loss.detach().cpu().numpy())  \u001b[38;5;66;03m# use loss as fitness measure if not found\u001b[39;00m\n\u001b[32m    629\u001b[39m     \u001b[38;5;28;01mif\u001b[39;00m \u001b[38;5;129;01mnot\u001b[39;00m \u001b[38;5;28mself\u001b[39m.best_fitness \u001b[38;5;129;01mor\u001b[39;00m \u001b[38;5;28mself\u001b[39m.best_fitness < fitness:\n",
      "\u001b[36mFile \u001b[39m\u001b[32mc:\\Users\\raiha\\OneDrive\\Desktop\\AR-Shopping-Assistant\\.venv\\Lib\\site-packages\\torch\\utils\\_contextlib.py:115\u001b[39m, in \u001b[36mcontext_decorator.<locals>.decorate_context\u001b[39m\u001b[34m(*args, **kwargs)\u001b[39m\n\u001b[32m    112\u001b[39m \u001b[38;5;129m@functools\u001b[39m.wraps(func)\n\u001b[32m    113\u001b[39m \u001b[38;5;28;01mdef\u001b[39;00m\u001b[38;5;250m \u001b[39m\u001b[34mdecorate_context\u001b[39m(*args, **kwargs):\n\u001b[32m    114\u001b[39m     \u001b[38;5;28;01mwith\u001b[39;00m ctx_factory():\n\u001b[32m--> \u001b[39m\u001b[32m115\u001b[39m         \u001b[38;5;28;01mreturn\u001b[39;00m \u001b[43mfunc\u001b[49m\u001b[43m(\u001b[49m\u001b[43m*\u001b[49m\u001b[43margs\u001b[49m\u001b[43m,\u001b[49m\u001b[43m \u001b[49m\u001b[43m*\u001b[49m\u001b[43m*\u001b[49m\u001b[43mkwargs\u001b[49m\u001b[43m)\u001b[49m\n",
      "\u001b[36mFile \u001b[39m\u001b[32mc:\\Users\\raiha\\OneDrive\\Desktop\\AR-Shopping-Assistant\\.venv\\Lib\\site-packages\\ultralytics\\engine\\validator.py:231\u001b[39m, in \u001b[36mBaseValidator.__call__\u001b[39m\u001b[34m(self, trainer, model)\u001b[39m\n\u001b[32m    228\u001b[39m         \u001b[38;5;28mself\u001b[39m.plot_predictions(batch, preds, batch_i)\n\u001b[32m    230\u001b[39m     \u001b[38;5;28mself\u001b[39m.run_callbacks(\u001b[33m\"\u001b[39m\u001b[33mon_val_batch_end\u001b[39m\u001b[33m\"\u001b[39m)\n\u001b[32m--> \u001b[39m\u001b[32m231\u001b[39m stats = \u001b[38;5;28;43mself\u001b[39;49m\u001b[43m.\u001b[49m\u001b[43mget_stats\u001b[49m\u001b[43m(\u001b[49m\u001b[43m)\u001b[49m\n\u001b[32m    232\u001b[39m \u001b[38;5;28mself\u001b[39m.check_stats(stats)\n\u001b[32m    233\u001b[39m \u001b[38;5;28mself\u001b[39m.speed = \u001b[38;5;28mdict\u001b[39m(\u001b[38;5;28mzip\u001b[39m(\u001b[38;5;28mself\u001b[39m.speed.keys(), (x.t / \u001b[38;5;28mlen\u001b[39m(\u001b[38;5;28mself\u001b[39m.dataloader.dataset) * \u001b[32m1e3\u001b[39m \u001b[38;5;28;01mfor\u001b[39;00m x \u001b[38;5;129;01min\u001b[39;00m dt)))\n",
      "\u001b[36mFile \u001b[39m\u001b[32mc:\\Users\\raiha\\OneDrive\\Desktop\\AR-Shopping-Assistant\\.venv\\Lib\\site-packages\\ultralytics\\models\\yolo\\detect\\val.py:263\u001b[39m, in \u001b[36mDetectionValidator.get_stats\u001b[39m\u001b[34m(self)\u001b[39m\n\u001b[32m    256\u001b[39m \u001b[38;5;28;01mdef\u001b[39;00m\u001b[38;5;250m \u001b[39m\u001b[34mget_stats\u001b[39m(\u001b[38;5;28mself\u001b[39m):\n\u001b[32m    257\u001b[39m \u001b[38;5;250m    \u001b[39m\u001b[33;03m\"\"\"\u001b[39;00m\n\u001b[32m    258\u001b[39m \u001b[33;03m    Calculate and return metrics statistics.\u001b[39;00m\n\u001b[32m    259\u001b[39m \n\u001b[32m    260\u001b[39m \u001b[33;03m    Returns:\u001b[39;00m\n\u001b[32m    261\u001b[39m \u001b[33;03m        (dict): Dictionary containing metrics results.\u001b[39;00m\n\u001b[32m    262\u001b[39m \u001b[33;03m    \"\"\"\u001b[39;00m\n\u001b[32m--> \u001b[39m\u001b[32m263\u001b[39m     stats = {k: \u001b[43mtorch\u001b[49m\u001b[43m.\u001b[49m\u001b[43mcat\u001b[49m\u001b[43m(\u001b[49m\u001b[43mv\u001b[49m\u001b[43m,\u001b[49m\u001b[43m \u001b[49m\u001b[32;43m0\u001b[39;49m\u001b[43m)\u001b[49m.cpu().numpy() \u001b[38;5;28;01mfor\u001b[39;00m k, v \u001b[38;5;129;01min\u001b[39;00m \u001b[38;5;28mself\u001b[39m.stats.items()}  \u001b[38;5;66;03m# to numpy\u001b[39;00m\n\u001b[32m    264\u001b[39m     \u001b[38;5;28mself\u001b[39m.nt_per_class = np.bincount(stats[\u001b[33m\"\u001b[39m\u001b[33mtarget_cls\u001b[39m\u001b[33m\"\u001b[39m].astype(\u001b[38;5;28mint\u001b[39m), minlength=\u001b[38;5;28mself\u001b[39m.nc)\n\u001b[32m    265\u001b[39m     \u001b[38;5;28mself\u001b[39m.nt_per_image = np.bincount(stats[\u001b[33m\"\u001b[39m\u001b[33mtarget_img\u001b[39m\u001b[33m\"\u001b[39m].astype(\u001b[38;5;28mint\u001b[39m), minlength=\u001b[38;5;28mself\u001b[39m.nc)\n",
      "\u001b[31mRuntimeError\u001b[39m: torch.cat(): expected a non-empty list of Tensors"
     ]
    }
   ],
   "source": [
    "from ultralytics import YOLO\n",
    "\n",
    "# Load a pre-trained YOLOv8 model\n",
    "model = YOLO(\"yolov8m.pt\")  # You can also use 'yolov8m.pt' or 'yolov8l.pt'\n",
    "\n",
    "# Train the model on DeepFashion2 dataset\n",
    "model.train(data=r\"C:\\Users\\raiha\\OneDrive\\Desktop\\cv_dataset\\deepfashion2\\deepfashion2.yaml\", epochs=3, imgsz=320)\n"
   ]
  },
  {
   "cell_type": "code",
   "execution_count": null,
   "metadata": {},
   "outputs": [],
   "source": [
    "# Validate the model\n",
    "model.val(data=r\"C:\\Users\\raiha\\OneDrive\\Desktop\\cv_dataset\\deepfashion2\\deepfashion2.yaml\")\n"
   ]
  },
  {
   "cell_type": "code",
   "execution_count": null,
   "metadata": {},
   "outputs": [],
   "source": [
    "# Run inference on test images\n",
    "results = model(\"C:/Users/raiha/OneDrive/Desktop/cv_dataset/deepfashion2/test_images/\")\n"
   ]
  }
 ],
 "metadata": {
  "kernelspec": {
   "display_name": ".venv",
   "language": "python",
   "name": "python3"
  },
  "language_info": {
   "codemirror_mode": {
    "name": "ipython",
    "version": 3
   },
   "file_extension": ".py",
   "mimetype": "text/x-python",
   "name": "python",
   "nbconvert_exporter": "python",
   "pygments_lexer": "ipython3",
   "version": "3.12.9"
  }
 },
 "nbformat": 4,
 "nbformat_minor": 2
}
