{
 "cells": [
  {
   "cell_type": "code",
   "execution_count": 57,
   "id": "8535414f-78bd-4d33-aee2-935361100300",
   "metadata": {},
   "outputs": [],
   "source": [
    "from woocommerce import API\n",
    "import os\n",
    "import pandas as pd\n",
    "from dotenv import load_dotenv\n",
    "import time\n",
    "from rich.progress import Progress, TextColumn, BarColumn, TimeElapsedColumn, TimeRemainingColumn"
   ]
  },
  {
   "cell_type": "code",
   "execution_count": 13,
   "id": "bd009424-3931-4ce5-b966-b970f707eb7c",
   "metadata": {},
   "outputs": [],
   "source": [
    "# Get the current working directory (where the notebook is running)\n",
    "current_dir = Path(os.getcwd())\n",
    "\n",
    "# Navigate two levels up to find .env\n",
    "dotenv_path = current_dir.parents[0] / \".env\"\n",
    "\n",
    "load_dotenv(dotenv_path)\n",
    "\n",
    "# Access variables\n",
    "CONSUMER_KEY = os.getenv(\"CONSUMER_KEY\")\n",
    "CONSUMER_SECRET = os.getenv(\"CONSUMER_SECRET\")"
   ]
  },
  {
   "cell_type": "code",
   "execution_count": 29,
   "id": "bb3873b9-bb78-42d2-994a-199daa217d81",
   "metadata": {},
   "outputs": [],
   "source": [
    "wcapi = API(\n",
    "    url=\"http://shoplens.local\",\n",
    "    consumer_key=CONSUMER_KEY,\n",
    "    consumer_secret=CONSUMER_SECRET,\n",
    "    wp_api=True,\n",
    "    version=\"wc/v3\",\n",
    ")"
   ]
  },
  {
   "cell_type": "code",
   "execution_count": 35,
   "id": "9228750b-ccc3-41bd-a2ac-ad0a60c90127",
   "metadata": {},
   "outputs": [
    {
     "data": {
      "text/plain": [
       "(2100, 10)"
      ]
     },
     "execution_count": 35,
     "metadata": {},
     "output_type": "execute_result"
    }
   ],
   "source": [
    "df = pd.read_csv(\"./sampled_fashion_categories.csv\")\n",
    "df.shape"
   ]
  },
  {
   "cell_type": "code",
   "execution_count": 36,
   "id": "3862ff29-031d-47a4-8387-c36812a1e6fe",
   "metadata": {},
   "outputs": [
    {
     "data": {
      "text/html": [
       "<div>\n",
       "<style scoped>\n",
       "    .dataframe tbody tr th:only-of-type {\n",
       "        vertical-align: middle;\n",
       "    }\n",
       "\n",
       "    .dataframe tbody tr th {\n",
       "        vertical-align: top;\n",
       "    }\n",
       "\n",
       "    .dataframe thead th {\n",
       "        text-align: right;\n",
       "    }\n",
       "</style>\n",
       "<table border=\"1\" class=\"dataframe\">\n",
       "  <thead>\n",
       "    <tr style=\"text-align: right;\">\n",
       "      <th></th>\n",
       "      <th>asin</th>\n",
       "      <th>title</th>\n",
       "      <th>imgUrl</th>\n",
       "      <th>productURL</th>\n",
       "      <th>stars</th>\n",
       "      <th>reviews</th>\n",
       "      <th>price</th>\n",
       "      <th>isBestSeller</th>\n",
       "      <th>boughtInLastMonth</th>\n",
       "      <th>categoryName</th>\n",
       "    </tr>\n",
       "  </thead>\n",
       "  <tbody>\n",
       "    <tr>\n",
       "      <th>0</th>\n",
       "      <td>B0CH6GQLQY</td>\n",
       "      <td>Trainers Black Girls Children's Shoes Dance Sh...</td>\n",
       "      <td>https://m.media-amazon.com/images/I/41V+H6No6E...</td>\n",
       "      <td>https://www.amazon.co.uk/dp/B0CH6GQLQY</td>\n",
       "      <td>0.0</td>\n",
       "      <td>0</td>\n",
       "      <td>0.65</td>\n",
       "      <td>False</td>\n",
       "      <td>0</td>\n",
       "      <td>Ballet &amp; Dancing Footwear</td>\n",
       "    </tr>\n",
       "    <tr>\n",
       "      <th>1</th>\n",
       "      <td>B0CKR3TRZZ</td>\n",
       "      <td>Latin Dance Shoes Women's Stiletto Heel Practi...</td>\n",
       "      <td>https://m.media-amazon.com/images/I/61aYXPunjN...</td>\n",
       "      <td>https://www.amazon.co.uk/dp/B0CKR3TRZZ</td>\n",
       "      <td>0.0</td>\n",
       "      <td>0</td>\n",
       "      <td>7.76</td>\n",
       "      <td>False</td>\n",
       "      <td>0</td>\n",
       "      <td>Ballet &amp; Dancing Footwear</td>\n",
       "    </tr>\n",
       "    <tr>\n",
       "      <th>2</th>\n",
       "      <td>B0030Z9MC4</td>\n",
       "      <td>Capezio Jazz Shoes, Versatile Black Jazz Shoes...</td>\n",
       "      <td>https://m.media-amazon.com/images/I/71zUAMnOH6...</td>\n",
       "      <td>https://www.amazon.co.uk/dp/B0030Z9MC4</td>\n",
       "      <td>4.1</td>\n",
       "      <td>21</td>\n",
       "      <td>13.00</td>\n",
       "      <td>False</td>\n",
       "      <td>0</td>\n",
       "      <td>Ballet &amp; Dancing Footwear</td>\n",
       "    </tr>\n",
       "    <tr>\n",
       "      <th>3</th>\n",
       "      <td>B0C2T6JXCT</td>\n",
       "      <td>s.lemon Women Black Hard Soled Dance Shoes Lea...</td>\n",
       "      <td>https://m.media-amazon.com/images/I/714Ppf42ZS...</td>\n",
       "      <td>https://www.amazon.co.uk/dp/B0C2T6JXCT</td>\n",
       "      <td>4.5</td>\n",
       "      <td>2</td>\n",
       "      <td>33.89</td>\n",
       "      <td>False</td>\n",
       "      <td>0</td>\n",
       "      <td>Ballet &amp; Dancing Footwear</td>\n",
       "    </tr>\n",
       "    <tr>\n",
       "      <th>4</th>\n",
       "      <td>B0CHRVR8GG</td>\n",
       "      <td>2024 New -Y9K Fashion Latin Dancing Shoes Wome...</td>\n",
       "      <td>https://m.media-amazon.com/images/I/61NQ-oaR4W...</td>\n",
       "      <td>https://www.amazon.co.uk/dp/B0CHRVR8GG</td>\n",
       "      <td>0.0</td>\n",
       "      <td>0</td>\n",
       "      <td>6.21</td>\n",
       "      <td>False</td>\n",
       "      <td>0</td>\n",
       "      <td>Ballet &amp; Dancing Footwear</td>\n",
       "    </tr>\n",
       "  </tbody>\n",
       "</table>\n",
       "</div>"
      ],
      "text/plain": [
       "         asin                                              title  \\\n",
       "0  B0CH6GQLQY  Trainers Black Girls Children's Shoes Dance Sh...   \n",
       "1  B0CKR3TRZZ  Latin Dance Shoes Women's Stiletto Heel Practi...   \n",
       "2  B0030Z9MC4  Capezio Jazz Shoes, Versatile Black Jazz Shoes...   \n",
       "3  B0C2T6JXCT  s.lemon Women Black Hard Soled Dance Shoes Lea...   \n",
       "4  B0CHRVR8GG  2024 New -Y9K Fashion Latin Dancing Shoes Wome...   \n",
       "\n",
       "                                              imgUrl  \\\n",
       "0  https://m.media-amazon.com/images/I/41V+H6No6E...   \n",
       "1  https://m.media-amazon.com/images/I/61aYXPunjN...   \n",
       "2  https://m.media-amazon.com/images/I/71zUAMnOH6...   \n",
       "3  https://m.media-amazon.com/images/I/714Ppf42ZS...   \n",
       "4  https://m.media-amazon.com/images/I/61NQ-oaR4W...   \n",
       "\n",
       "                               productURL  stars  reviews  price  \\\n",
       "0  https://www.amazon.co.uk/dp/B0CH6GQLQY    0.0        0   0.65   \n",
       "1  https://www.amazon.co.uk/dp/B0CKR3TRZZ    0.0        0   7.76   \n",
       "2  https://www.amazon.co.uk/dp/B0030Z9MC4    4.1       21  13.00   \n",
       "3  https://www.amazon.co.uk/dp/B0C2T6JXCT    4.5        2  33.89   \n",
       "4  https://www.amazon.co.uk/dp/B0CHRVR8GG    0.0        0   6.21   \n",
       "\n",
       "   isBestSeller  boughtInLastMonth               categoryName  \n",
       "0         False                  0  Ballet & Dancing Footwear  \n",
       "1         False                  0  Ballet & Dancing Footwear  \n",
       "2         False                  0  Ballet & Dancing Footwear  \n",
       "3         False                  0  Ballet & Dancing Footwear  \n",
       "4         False                  0  Ballet & Dancing Footwear  "
      ]
     },
     "execution_count": 36,
     "metadata": {},
     "output_type": "execute_result"
    }
   ],
   "source": [
    "df.head(5)"
   ]
  },
  {
   "cell_type": "code",
   "execution_count": 40,
   "id": "9013ce1f-9af4-4414-9ded-b80be410072e",
   "metadata": {
    "scrolled": true
   },
   "outputs": [
    {
     "data": {
      "text/html": [
       "<div>\n",
       "<style scoped>\n",
       "    .dataframe tbody tr th:only-of-type {\n",
       "        vertical-align: middle;\n",
       "    }\n",
       "\n",
       "    .dataframe tbody tr th {\n",
       "        vertical-align: top;\n",
       "    }\n",
       "\n",
       "    .dataframe thead th {\n",
       "        text-align: right;\n",
       "    }\n",
       "</style>\n",
       "<table border=\"1\" class=\"dataframe\">\n",
       "  <thead>\n",
       "    <tr style=\"text-align: right;\">\n",
       "      <th></th>\n",
       "      <th>id</th>\n",
       "      <th>categoryName</th>\n",
       "    </tr>\n",
       "  </thead>\n",
       "  <tbody>\n",
       "    <tr>\n",
       "      <th>0</th>\n",
       "      <td>None</td>\n",
       "      <td>Ballet &amp; Dancing Footwear</td>\n",
       "    </tr>\n",
       "    <tr>\n",
       "      <th>1</th>\n",
       "      <td>None</td>\n",
       "      <td>Basketball Footwear</td>\n",
       "    </tr>\n",
       "    <tr>\n",
       "      <th>2</th>\n",
       "      <td>None</td>\n",
       "      <td>Beauty</td>\n",
       "    </tr>\n",
       "    <tr>\n",
       "      <th>3</th>\n",
       "      <td>None</td>\n",
       "      <td>Boating Footwear</td>\n",
       "    </tr>\n",
       "    <tr>\n",
       "      <th>4</th>\n",
       "      <td>None</td>\n",
       "      <td>Boxing Shoes</td>\n",
       "    </tr>\n",
       "    <tr>\n",
       "      <th>5</th>\n",
       "      <td>None</td>\n",
       "      <td>Climbing Footwear</td>\n",
       "    </tr>\n",
       "    <tr>\n",
       "      <th>6</th>\n",
       "      <td>None</td>\n",
       "      <td>Cricket Shoes</td>\n",
       "    </tr>\n",
       "    <tr>\n",
       "      <th>7</th>\n",
       "      <td>None</td>\n",
       "      <td>Cycling Shoes</td>\n",
       "    </tr>\n",
       "    <tr>\n",
       "      <th>8</th>\n",
       "      <td>None</td>\n",
       "      <td>Equestrian Sports Boots</td>\n",
       "    </tr>\n",
       "    <tr>\n",
       "      <th>9</th>\n",
       "      <td>None</td>\n",
       "      <td>Golf Shoes</td>\n",
       "    </tr>\n",
       "    <tr>\n",
       "      <th>10</th>\n",
       "      <td>None</td>\n",
       "      <td>Hair Care</td>\n",
       "    </tr>\n",
       "    <tr>\n",
       "      <th>11</th>\n",
       "      <td>None</td>\n",
       "      <td>Handmade Clothing, Shoes &amp; Accessories</td>\n",
       "    </tr>\n",
       "    <tr>\n",
       "      <th>12</th>\n",
       "      <td>None</td>\n",
       "      <td>Handmade Jewellery</td>\n",
       "    </tr>\n",
       "    <tr>\n",
       "      <th>13</th>\n",
       "      <td>None</td>\n",
       "      <td>Hockey Shoes</td>\n",
       "    </tr>\n",
       "    <tr>\n",
       "      <th>14</th>\n",
       "      <td>None</td>\n",
       "      <td>Make-up</td>\n",
       "    </tr>\n",
       "    <tr>\n",
       "      <th>15</th>\n",
       "      <td>None</td>\n",
       "      <td>Men</td>\n",
       "    </tr>\n",
       "    <tr>\n",
       "      <th>16</th>\n",
       "      <td>None</td>\n",
       "      <td>Motorbike Clothing</td>\n",
       "    </tr>\n",
       "    <tr>\n",
       "      <th>17</th>\n",
       "      <td>None</td>\n",
       "      <td>Ski Clothing</td>\n",
       "    </tr>\n",
       "    <tr>\n",
       "      <th>18</th>\n",
       "      <td>None</td>\n",
       "      <td>Tennis Shoes</td>\n",
       "    </tr>\n",
       "    <tr>\n",
       "      <th>19</th>\n",
       "      <td>None</td>\n",
       "      <td>Women</td>\n",
       "    </tr>\n",
       "    <tr>\n",
       "      <th>20</th>\n",
       "      <td>None</td>\n",
       "      <td>Women's Sports &amp; Outdoor Shoes</td>\n",
       "    </tr>\n",
       "  </tbody>\n",
       "</table>\n",
       "</div>"
      ],
      "text/plain": [
       "      id                            categoryName\n",
       "0   None               Ballet & Dancing Footwear\n",
       "1   None                     Basketball Footwear\n",
       "2   None                                  Beauty\n",
       "3   None                        Boating Footwear\n",
       "4   None                            Boxing Shoes\n",
       "5   None                       Climbing Footwear\n",
       "6   None                           Cricket Shoes\n",
       "7   None                           Cycling Shoes\n",
       "8   None                 Equestrian Sports Boots\n",
       "9   None                              Golf Shoes\n",
       "10  None                               Hair Care\n",
       "11  None  Handmade Clothing, Shoes & Accessories\n",
       "12  None                      Handmade Jewellery\n",
       "13  None                            Hockey Shoes\n",
       "14  None                                 Make-up\n",
       "15  None                                     Men\n",
       "16  None                      Motorbike Clothing\n",
       "17  None                            Ski Clothing\n",
       "18  None                            Tennis Shoes\n",
       "19  None                                   Women\n",
       "20  None          Women's Sports & Outdoor Shoes"
      ]
     },
     "execution_count": 40,
     "metadata": {},
     "output_type": "execute_result"
    }
   ],
   "source": [
    "df_categories = pd.DataFrame({'id': None, 'categoryName': df['categoryName'].unique()})\n",
    "df_categories"
   ]
  },
  {
   "cell_type": "code",
   "execution_count": 48,
   "id": "4fa9321c-c0a6-4cbe-a816-355c1c48ee57",
   "metadata": {},
   "outputs": [
    {
     "data": {
      "application/vnd.jupyter.widget-view+json": {
       "model_id": "8ad8b5d2aa4743089a5e509ce04831d6",
       "version_major": 2,
       "version_minor": 0
      },
      "text/plain": [
       "Output()"
      ]
     },
     "metadata": {},
     "output_type": "display_data"
    },
    {
     "data": {
      "text/html": [
       "<pre style=\"white-space:pre;overflow-x:auto;line-height:normal;font-family:Menlo,'DejaVu Sans Mono',consolas,'Courier New',monospace\"></pre>\n"
      ],
      "text/plain": []
     },
     "metadata": {},
     "output_type": "display_data"
    },
    {
     "name": "stdout",
     "output_type": "stream",
     "text": [
      "✅ Category creation process completed!\n"
     ]
    }
   ],
   "source": [
    "# Create a progress bar with custom columns\n",
    "with Progress(\n",
    "    TextColumn(\"[cyan]Creating Categories...\"),\n",
    "    BarColumn(),\n",
    "    TextColumn(\"{task.completed}/{task.total}\"),\n",
    "    TimeElapsedColumn(),\n",
    "    TimeRemainingColumn(),\n",
    ") as progress:\n",
    "\n",
    "    task = progress.add_task(\"Creating Categories...\", total=len(df_categories))\n",
    "\n",
    "    for index, row in df_categories.iterrows():\n",
    "        data = {\"name\": row[\"categoryName\"]}\n",
    "\n",
    "        # Send API request\n",
    "        response = wcapi.post(\"products/categories\", data).json()\n",
    "\n",
    "        # Extract category ID if available\n",
    "        category_id = response.get(\"id\")\n",
    "        if category_id:\n",
    "            df_categories.at[index, \"id\"] = category_id  # Update ID in the DataFrame\n",
    "\n",
    "        progress.update(task, advance=1)  # Update progress bar\n",
    "        time.sleep(1)  # Add a delay to avoid rate limiting\n",
    "\n",
    "# Save the updated DataFrame with IDs\n",
    "df_categories.to_csv(\"categories.csv\", index=False)\n",
    "\n",
    "print(\"✅ Category creation process completed!\")\n"
   ]
  },
  {
   "cell_type": "code",
   "execution_count": 49,
   "id": "8858eda3-ae00-4448-bf77-3cb211dce78e",
   "metadata": {},
   "outputs": [
    {
     "data": {
      "text/html": [
       "<div>\n",
       "<style scoped>\n",
       "    .dataframe tbody tr th:only-of-type {\n",
       "        vertical-align: middle;\n",
       "    }\n",
       "\n",
       "    .dataframe tbody tr th {\n",
       "        vertical-align: top;\n",
       "    }\n",
       "\n",
       "    .dataframe thead th {\n",
       "        text-align: right;\n",
       "    }\n",
       "</style>\n",
       "<table border=\"1\" class=\"dataframe\">\n",
       "  <thead>\n",
       "    <tr style=\"text-align: right;\">\n",
       "      <th></th>\n",
       "      <th>id</th>\n",
       "      <th>categoryName</th>\n",
       "    </tr>\n",
       "  </thead>\n",
       "  <tbody>\n",
       "    <tr>\n",
       "      <th>0</th>\n",
       "      <td>20</td>\n",
       "      <td>Ballet &amp; Dancing Footwear</td>\n",
       "    </tr>\n",
       "    <tr>\n",
       "      <th>1</th>\n",
       "      <td>21</td>\n",
       "      <td>Basketball Footwear</td>\n",
       "    </tr>\n",
       "    <tr>\n",
       "      <th>2</th>\n",
       "      <td>22</td>\n",
       "      <td>Beauty</td>\n",
       "    </tr>\n",
       "    <tr>\n",
       "      <th>3</th>\n",
       "      <td>23</td>\n",
       "      <td>Boating Footwear</td>\n",
       "    </tr>\n",
       "    <tr>\n",
       "      <th>4</th>\n",
       "      <td>24</td>\n",
       "      <td>Boxing Shoes</td>\n",
       "    </tr>\n",
       "    <tr>\n",
       "      <th>5</th>\n",
       "      <td>25</td>\n",
       "      <td>Climbing Footwear</td>\n",
       "    </tr>\n",
       "    <tr>\n",
       "      <th>6</th>\n",
       "      <td>26</td>\n",
       "      <td>Cricket Shoes</td>\n",
       "    </tr>\n",
       "    <tr>\n",
       "      <th>7</th>\n",
       "      <td>27</td>\n",
       "      <td>Cycling Shoes</td>\n",
       "    </tr>\n",
       "    <tr>\n",
       "      <th>8</th>\n",
       "      <td>28</td>\n",
       "      <td>Equestrian Sports Boots</td>\n",
       "    </tr>\n",
       "    <tr>\n",
       "      <th>9</th>\n",
       "      <td>29</td>\n",
       "      <td>Golf Shoes</td>\n",
       "    </tr>\n",
       "    <tr>\n",
       "      <th>10</th>\n",
       "      <td>30</td>\n",
       "      <td>Hair Care</td>\n",
       "    </tr>\n",
       "    <tr>\n",
       "      <th>11</th>\n",
       "      <td>31</td>\n",
       "      <td>Handmade Clothing, Shoes &amp; Accessories</td>\n",
       "    </tr>\n",
       "    <tr>\n",
       "      <th>12</th>\n",
       "      <td>32</td>\n",
       "      <td>Handmade Jewellery</td>\n",
       "    </tr>\n",
       "    <tr>\n",
       "      <th>13</th>\n",
       "      <td>33</td>\n",
       "      <td>Hockey Shoes</td>\n",
       "    </tr>\n",
       "    <tr>\n",
       "      <th>14</th>\n",
       "      <td>34</td>\n",
       "      <td>Make-up</td>\n",
       "    </tr>\n",
       "    <tr>\n",
       "      <th>15</th>\n",
       "      <td>35</td>\n",
       "      <td>Men</td>\n",
       "    </tr>\n",
       "    <tr>\n",
       "      <th>16</th>\n",
       "      <td>36</td>\n",
       "      <td>Motorbike Clothing</td>\n",
       "    </tr>\n",
       "    <tr>\n",
       "      <th>17</th>\n",
       "      <td>37</td>\n",
       "      <td>Ski Clothing</td>\n",
       "    </tr>\n",
       "    <tr>\n",
       "      <th>18</th>\n",
       "      <td>38</td>\n",
       "      <td>Tennis Shoes</td>\n",
       "    </tr>\n",
       "    <tr>\n",
       "      <th>19</th>\n",
       "      <td>39</td>\n",
       "      <td>Women</td>\n",
       "    </tr>\n",
       "    <tr>\n",
       "      <th>20</th>\n",
       "      <td>40</td>\n",
       "      <td>Women's Sports &amp; Outdoor Shoes</td>\n",
       "    </tr>\n",
       "  </tbody>\n",
       "</table>\n",
       "</div>"
      ],
      "text/plain": [
       "    id                            categoryName\n",
       "0   20               Ballet & Dancing Footwear\n",
       "1   21                     Basketball Footwear\n",
       "2   22                                  Beauty\n",
       "3   23                        Boating Footwear\n",
       "4   24                            Boxing Shoes\n",
       "5   25                       Climbing Footwear\n",
       "6   26                           Cricket Shoes\n",
       "7   27                           Cycling Shoes\n",
       "8   28                 Equestrian Sports Boots\n",
       "9   29                              Golf Shoes\n",
       "10  30                               Hair Care\n",
       "11  31  Handmade Clothing, Shoes & Accessories\n",
       "12  32                      Handmade Jewellery\n",
       "13  33                            Hockey Shoes\n",
       "14  34                                 Make-up\n",
       "15  35                                     Men\n",
       "16  36                      Motorbike Clothing\n",
       "17  37                            Ski Clothing\n",
       "18  38                            Tennis Shoes\n",
       "19  39                                   Women\n",
       "20  40          Women's Sports & Outdoor Shoes"
      ]
     },
     "execution_count": 49,
     "metadata": {},
     "output_type": "execute_result"
    }
   ],
   "source": [
    "df_categories"
   ]
  },
  {
   "cell_type": "code",
   "execution_count": 52,
   "id": "31dcf379-0ae3-4107-849a-eb408cbdd0d5",
   "metadata": {},
   "outputs": [
    {
     "data": {
      "text/html": [
       "<div>\n",
       "<style scoped>\n",
       "    .dataframe tbody tr th:only-of-type {\n",
       "        vertical-align: middle;\n",
       "    }\n",
       "\n",
       "    .dataframe tbody tr th {\n",
       "        vertical-align: top;\n",
       "    }\n",
       "\n",
       "    .dataframe thead th {\n",
       "        text-align: right;\n",
       "    }\n",
       "</style>\n",
       "<table border=\"1\" class=\"dataframe\">\n",
       "  <thead>\n",
       "    <tr style=\"text-align: right;\">\n",
       "      <th></th>\n",
       "      <th>asin</th>\n",
       "      <th>title</th>\n",
       "      <th>imgUrl</th>\n",
       "      <th>productURL</th>\n",
       "      <th>stars</th>\n",
       "      <th>reviews</th>\n",
       "      <th>price</th>\n",
       "      <th>isBestSeller</th>\n",
       "      <th>boughtInLastMonth</th>\n",
       "      <th>categoryName</th>\n",
       "      <th>categoryId</th>\n",
       "    </tr>\n",
       "  </thead>\n",
       "  <tbody>\n",
       "    <tr>\n",
       "      <th>0</th>\n",
       "      <td>B0CH6GQLQY</td>\n",
       "      <td>Trainers Black Girls Children's Shoes Dance Sh...</td>\n",
       "      <td>https://m.media-amazon.com/images/I/41V+H6No6E...</td>\n",
       "      <td>https://www.amazon.co.uk/dp/B0CH6GQLQY</td>\n",
       "      <td>0.0</td>\n",
       "      <td>0</td>\n",
       "      <td>0.65</td>\n",
       "      <td>False</td>\n",
       "      <td>0</td>\n",
       "      <td>Ballet &amp; Dancing Footwear</td>\n",
       "      <td>20</td>\n",
       "    </tr>\n",
       "    <tr>\n",
       "      <th>1</th>\n",
       "      <td>B0CKR3TRZZ</td>\n",
       "      <td>Latin Dance Shoes Women's Stiletto Heel Practi...</td>\n",
       "      <td>https://m.media-amazon.com/images/I/61aYXPunjN...</td>\n",
       "      <td>https://www.amazon.co.uk/dp/B0CKR3TRZZ</td>\n",
       "      <td>0.0</td>\n",
       "      <td>0</td>\n",
       "      <td>7.76</td>\n",
       "      <td>False</td>\n",
       "      <td>0</td>\n",
       "      <td>Ballet &amp; Dancing Footwear</td>\n",
       "      <td>20</td>\n",
       "    </tr>\n",
       "    <tr>\n",
       "      <th>2</th>\n",
       "      <td>B0030Z9MC4</td>\n",
       "      <td>Capezio Jazz Shoes, Versatile Black Jazz Shoes...</td>\n",
       "      <td>https://m.media-amazon.com/images/I/71zUAMnOH6...</td>\n",
       "      <td>https://www.amazon.co.uk/dp/B0030Z9MC4</td>\n",
       "      <td>4.1</td>\n",
       "      <td>21</td>\n",
       "      <td>13.00</td>\n",
       "      <td>False</td>\n",
       "      <td>0</td>\n",
       "      <td>Ballet &amp; Dancing Footwear</td>\n",
       "      <td>20</td>\n",
       "    </tr>\n",
       "    <tr>\n",
       "      <th>3</th>\n",
       "      <td>B0C2T6JXCT</td>\n",
       "      <td>s.lemon Women Black Hard Soled Dance Shoes Lea...</td>\n",
       "      <td>https://m.media-amazon.com/images/I/714Ppf42ZS...</td>\n",
       "      <td>https://www.amazon.co.uk/dp/B0C2T6JXCT</td>\n",
       "      <td>4.5</td>\n",
       "      <td>2</td>\n",
       "      <td>33.89</td>\n",
       "      <td>False</td>\n",
       "      <td>0</td>\n",
       "      <td>Ballet &amp; Dancing Footwear</td>\n",
       "      <td>20</td>\n",
       "    </tr>\n",
       "    <tr>\n",
       "      <th>4</th>\n",
       "      <td>B0CHRVR8GG</td>\n",
       "      <td>2024 New -Y9K Fashion Latin Dancing Shoes Wome...</td>\n",
       "      <td>https://m.media-amazon.com/images/I/61NQ-oaR4W...</td>\n",
       "      <td>https://www.amazon.co.uk/dp/B0CHRVR8GG</td>\n",
       "      <td>0.0</td>\n",
       "      <td>0</td>\n",
       "      <td>6.21</td>\n",
       "      <td>False</td>\n",
       "      <td>0</td>\n",
       "      <td>Ballet &amp; Dancing Footwear</td>\n",
       "      <td>20</td>\n",
       "    </tr>\n",
       "  </tbody>\n",
       "</table>\n",
       "</div>"
      ],
      "text/plain": [
       "         asin                                              title  \\\n",
       "0  B0CH6GQLQY  Trainers Black Girls Children's Shoes Dance Sh...   \n",
       "1  B0CKR3TRZZ  Latin Dance Shoes Women's Stiletto Heel Practi...   \n",
       "2  B0030Z9MC4  Capezio Jazz Shoes, Versatile Black Jazz Shoes...   \n",
       "3  B0C2T6JXCT  s.lemon Women Black Hard Soled Dance Shoes Lea...   \n",
       "4  B0CHRVR8GG  2024 New -Y9K Fashion Latin Dancing Shoes Wome...   \n",
       "\n",
       "                                              imgUrl  \\\n",
       "0  https://m.media-amazon.com/images/I/41V+H6No6E...   \n",
       "1  https://m.media-amazon.com/images/I/61aYXPunjN...   \n",
       "2  https://m.media-amazon.com/images/I/71zUAMnOH6...   \n",
       "3  https://m.media-amazon.com/images/I/714Ppf42ZS...   \n",
       "4  https://m.media-amazon.com/images/I/61NQ-oaR4W...   \n",
       "\n",
       "                               productURL  stars  reviews  price  \\\n",
       "0  https://www.amazon.co.uk/dp/B0CH6GQLQY    0.0        0   0.65   \n",
       "1  https://www.amazon.co.uk/dp/B0CKR3TRZZ    0.0        0   7.76   \n",
       "2  https://www.amazon.co.uk/dp/B0030Z9MC4    4.1       21  13.00   \n",
       "3  https://www.amazon.co.uk/dp/B0C2T6JXCT    4.5        2  33.89   \n",
       "4  https://www.amazon.co.uk/dp/B0CHRVR8GG    0.0        0   6.21   \n",
       "\n",
       "   isBestSeller  boughtInLastMonth               categoryName categoryId  \n",
       "0         False                  0  Ballet & Dancing Footwear         20  \n",
       "1         False                  0  Ballet & Dancing Footwear         20  \n",
       "2         False                  0  Ballet & Dancing Footwear         20  \n",
       "3         False                  0  Ballet & Dancing Footwear         20  \n",
       "4         False                  0  Ballet & Dancing Footwear         20  "
      ]
     },
     "execution_count": 52,
     "metadata": {},
     "output_type": "execute_result"
    }
   ],
   "source": [
    "# Merge products with categories based on categoryName\n",
    "df = df.merge(df_categories[['categoryName', 'id']], on='categoryName', how='left')\n",
    "\n",
    "# Rename the 'id' column to 'categoryId'\n",
    "df.rename(columns={'id': 'categoryId'}, inplace=True)\n",
    "\n",
    "df.head(5)"
   ]
  },
  {
   "cell_type": "code",
   "execution_count": 77,
   "id": "ed08348d-0477-458f-8c35-501f0e8af287",
   "metadata": {},
   "outputs": [],
   "source": [
    "df.to_csv(\"./sampled_fashion_categories.csv\", index=False)"
   ]
  },
  {
   "cell_type": "code",
   "execution_count": null,
   "id": "e417449f-975a-4a8d-8633-ad6786c2f9fb",
   "metadata": {},
   "outputs": [],
   "source": []
  },
  {
   "cell_type": "code",
   "execution_count": 81,
   "id": "d370e18d-ab65-489b-a0c7-b62360779d27",
   "metadata": {},
   "outputs": [
    {
     "data": {
      "application/vnd.jupyter.widget-view+json": {
       "model_id": "fbe1bb1986364abab02cbef996621da7",
       "version_major": 2,
       "version_minor": 0
      },
      "text/plain": [
       "Output()"
      ]
     },
     "metadata": {},
     "output_type": "display_data"
    },
    {
     "data": {
      "text/html": [
       "<pre style=\"white-space:pre;overflow-x:auto;line-height:normal;font-family:Menlo,'DejaVu Sans Mono',consolas,'Courier New',monospace\">⚠️ Request failed for ASIN: B00V636FU4 - HTTPConnectionPool(host='shoplens.local', port=80): Read timed out. (read \n",
       "timeout=5)\n",
       "</pre>\n"
      ],
      "text/plain": [
       "⚠️ Request failed for ASIN: B00V636FU4 - HTTPConnectionPool(host='shoplens.local', port=80): Read timed out. (read \n",
       "timeout=5)\n"
      ]
     },
     "metadata": {},
     "output_type": "display_data"
    },
    {
     "data": {
      "text/html": [
       "<pre style=\"white-space:pre;overflow-x:auto;line-height:normal;font-family:Menlo,'DejaVu Sans Mono',consolas,'Courier New',monospace\">⚠️ Request failed for ASIN: B0CJ386B4H - HTTPConnectionPool(host='shoplens.local', port=80): Read timed out. (read \n",
       "timeout=5)\n",
       "</pre>\n"
      ],
      "text/plain": [
       "⚠️ Request failed for ASIN: B0CJ386B4H - HTTPConnectionPool(host='shoplens.local', port=80): Read timed out. (read \n",
       "timeout=5)\n"
      ]
     },
     "metadata": {},
     "output_type": "display_data"
    },
    {
     "data": {
      "text/html": [
       "<pre style=\"white-space:pre;overflow-x:auto;line-height:normal;font-family:Menlo,'DejaVu Sans Mono',consolas,'Courier New',monospace\">⚠️ Request failed for ASIN: B00R4KTO9M - HTTPConnectionPool(host='shoplens.local', port=80): Read timed out. (read \n",
       "timeout=5)\n",
       "</pre>\n"
      ],
      "text/plain": [
       "⚠️ Request failed for ASIN: B00R4KTO9M - HTTPConnectionPool(host='shoplens.local', port=80): Read timed out. (read \n",
       "timeout=5)\n"
      ]
     },
     "metadata": {},
     "output_type": "display_data"
    },
    {
     "data": {
      "text/html": [
       "<pre style=\"white-space:pre;overflow-x:auto;line-height:normal;font-family:Menlo,'DejaVu Sans Mono',consolas,'Courier New',monospace\">⚠️ Request failed for ASIN: B0CHWFPYXZ - HTTPConnectionPool(host='shoplens.local', port=80): Read timed out. (read \n",
       "timeout=5)\n",
       "</pre>\n"
      ],
      "text/plain": [
       "⚠️ Request failed for ASIN: B0CHWFPYXZ - HTTPConnectionPool(host='shoplens.local', port=80): Read timed out. (read \n",
       "timeout=5)\n"
      ]
     },
     "metadata": {},
     "output_type": "display_data"
    },
    {
     "data": {
      "text/html": [
       "<pre style=\"white-space:pre;overflow-x:auto;line-height:normal;font-family:Menlo,'DejaVu Sans Mono',consolas,'Courier New',monospace\">⚠️ Request failed for ASIN: B0CFY8C6ZQ - HTTPConnectionPool(host='shoplens.local', port=80): Read timed out. (read \n",
       "timeout=5)\n",
       "</pre>\n"
      ],
      "text/plain": [
       "⚠️ Request failed for ASIN: B0CFY8C6ZQ - HTTPConnectionPool(host='shoplens.local', port=80): Read timed out. (read \n",
       "timeout=5)\n"
      ]
     },
     "metadata": {},
     "output_type": "display_data"
    },
    {
     "data": {
      "text/html": [
       "<pre style=\"white-space:pre;overflow-x:auto;line-height:normal;font-family:Menlo,'DejaVu Sans Mono',consolas,'Courier New',monospace\">⚠️ Request failed for ASIN: B078GFDV96 - HTTPConnectionPool(host='shoplens.local', port=80): Read timed out. (read \n",
       "timeout=5)\n",
       "</pre>\n"
      ],
      "text/plain": [
       "⚠️ Request failed for ASIN: B078GFDV96 - HTTPConnectionPool(host='shoplens.local', port=80): Read timed out. (read \n",
       "timeout=5)\n"
      ]
     },
     "metadata": {},
     "output_type": "display_data"
    },
    {
     "data": {
      "text/html": [
       "<pre style=\"white-space:pre;overflow-x:auto;line-height:normal;font-family:Menlo,'DejaVu Sans Mono',consolas,'Courier New',monospace\">⚠️ Request failed for ASIN: B0CJTFMR67 - HTTPConnectionPool(host='shoplens.local', port=80): Read timed out. (read \n",
       "timeout=5)\n",
       "</pre>\n"
      ],
      "text/plain": [
       "⚠️ Request failed for ASIN: B0CJTFMR67 - HTTPConnectionPool(host='shoplens.local', port=80): Read timed out. (read \n",
       "timeout=5)\n"
      ]
     },
     "metadata": {},
     "output_type": "display_data"
    },
    {
     "data": {
      "text/html": [
       "<pre style=\"white-space:pre;overflow-x:auto;line-height:normal;font-family:Menlo,'DejaVu Sans Mono',consolas,'Courier New',monospace\">⚠️ Request failed for ASIN: B000ACNNYI - HTTPConnectionPool(host='shoplens.local', port=80): Read timed out. (read \n",
       "timeout=5)\n",
       "</pre>\n"
      ],
      "text/plain": [
       "⚠️ Request failed for ASIN: B000ACNNYI - HTTPConnectionPool(host='shoplens.local', port=80): Read timed out. (read \n",
       "timeout=5)\n"
      ]
     },
     "metadata": {},
     "output_type": "display_data"
    },
    {
     "data": {
      "text/html": [
       "<pre style=\"white-space:pre;overflow-x:auto;line-height:normal;font-family:Menlo,'DejaVu Sans Mono',consolas,'Courier New',monospace\">⚠️ Request failed for ASIN: B0BVBQMTPW - HTTPConnectionPool(host='shoplens.local', port=80): Read timed out. (read \n",
       "timeout=5)\n",
       "</pre>\n"
      ],
      "text/plain": [
       "⚠️ Request failed for ASIN: B0BVBQMTPW - HTTPConnectionPool(host='shoplens.local', port=80): Read timed out. (read \n",
       "timeout=5)\n"
      ]
     },
     "metadata": {},
     "output_type": "display_data"
    },
    {
     "data": {
      "text/html": [
       "<pre style=\"white-space:pre;overflow-x:auto;line-height:normal;font-family:Menlo,'DejaVu Sans Mono',consolas,'Courier New',monospace\">⚠️ Request failed for ASIN: B07SQ9SKP3 - HTTPConnectionPool(host='shoplens.local', port=80): Read timed out. (read \n",
       "timeout=5)\n",
       "</pre>\n"
      ],
      "text/plain": [
       "⚠️ Request failed for ASIN: B07SQ9SKP3 - HTTPConnectionPool(host='shoplens.local', port=80): Read timed out. (read \n",
       "timeout=5)\n"
      ]
     },
     "metadata": {},
     "output_type": "display_data"
    },
    {
     "data": {
      "text/html": [
       "<pre style=\"white-space:pre;overflow-x:auto;line-height:normal;font-family:Menlo,'DejaVu Sans Mono',consolas,'Courier New',monospace\">⚠️ Request failed for ASIN: B08B154JF1 - HTTPConnectionPool(host='shoplens.local', port=80): Read timed out. (read \n",
       "timeout=5)\n",
       "</pre>\n"
      ],
      "text/plain": [
       "⚠️ Request failed for ASIN: B08B154JF1 - HTTPConnectionPool(host='shoplens.local', port=80): Read timed out. (read \n",
       "timeout=5)\n"
      ]
     },
     "metadata": {},
     "output_type": "display_data"
    },
    {
     "data": {
      "text/html": [
       "<pre style=\"white-space:pre;overflow-x:auto;line-height:normal;font-family:Menlo,'DejaVu Sans Mono',consolas,'Courier New',monospace\">⚠️ Request failed for ASIN: B084CVGFFG - HTTPConnectionPool(host='shoplens.local', port=80): Read timed out. (read \n",
       "timeout=5)\n",
       "</pre>\n"
      ],
      "text/plain": [
       "⚠️ Request failed for ASIN: B084CVGFFG - HTTPConnectionPool(host='shoplens.local', port=80): Read timed out. (read \n",
       "timeout=5)\n"
      ]
     },
     "metadata": {},
     "output_type": "display_data"
    },
    {
     "data": {
      "text/html": [
       "<pre style=\"white-space:pre;overflow-x:auto;line-height:normal;font-family:Menlo,'DejaVu Sans Mono',consolas,'Courier New',monospace\">⚠️ Request failed for ASIN: B07CW596HS - HTTPConnectionPool(host='shoplens.local', port=80): Read timed out. (read \n",
       "timeout=5)\n",
       "</pre>\n"
      ],
      "text/plain": [
       "⚠️ Request failed for ASIN: B07CW596HS - HTTPConnectionPool(host='shoplens.local', port=80): Read timed out. (read \n",
       "timeout=5)\n"
      ]
     },
     "metadata": {},
     "output_type": "display_data"
    },
    {
     "data": {
      "text/html": [
       "<pre style=\"white-space:pre;overflow-x:auto;line-height:normal;font-family:Menlo,'DejaVu Sans Mono',consolas,'Courier New',monospace\">⚠️ Request failed for ASIN: B0BNF64M9B - HTTPConnectionPool(host='shoplens.local', port=80): Read timed out. (read \n",
       "timeout=5)\n",
       "</pre>\n"
      ],
      "text/plain": [
       "⚠️ Request failed for ASIN: B0BNF64M9B - HTTPConnectionPool(host='shoplens.local', port=80): Read timed out. (read \n",
       "timeout=5)\n"
      ]
     },
     "metadata": {},
     "output_type": "display_data"
    },
    {
     "data": {
      "text/html": [
       "<pre style=\"white-space:pre;overflow-x:auto;line-height:normal;font-family:Menlo,'DejaVu Sans Mono',consolas,'Courier New',monospace\">⚠️ Request failed for ASIN: B002MXH0T2 - HTTPConnectionPool(host='shoplens.local', port=80): Read timed out. (read \n",
       "timeout=5)\n",
       "</pre>\n"
      ],
      "text/plain": [
       "⚠️ Request failed for ASIN: B002MXH0T2 - HTTPConnectionPool(host='shoplens.local', port=80): Read timed out. (read \n",
       "timeout=5)\n"
      ]
     },
     "metadata": {},
     "output_type": "display_data"
    },
    {
     "data": {
      "text/html": [
       "<pre style=\"white-space:pre;overflow-x:auto;line-height:normal;font-family:Menlo,'DejaVu Sans Mono',consolas,'Courier New',monospace\">⚠️ Request failed for ASIN: B07KYSLVJY - HTTPConnectionPool(host='shoplens.local', port=80): Read timed out. (read \n",
       "timeout=5)\n",
       "</pre>\n"
      ],
      "text/plain": [
       "⚠️ Request failed for ASIN: B07KYSLVJY - HTTPConnectionPool(host='shoplens.local', port=80): Read timed out. (read \n",
       "timeout=5)\n"
      ]
     },
     "metadata": {},
     "output_type": "display_data"
    },
    {
     "data": {
      "text/html": [
       "<pre style=\"white-space:pre;overflow-x:auto;line-height:normal;font-family:Menlo,'DejaVu Sans Mono',consolas,'Courier New',monospace\">⚠️ Request failed for ASIN: B09XX9LPLS - HTTPConnectionPool(host='shoplens.local', port=80): Read timed out. (read \n",
       "timeout=5)\n",
       "</pre>\n"
      ],
      "text/plain": [
       "⚠️ Request failed for ASIN: B09XX9LPLS - HTTPConnectionPool(host='shoplens.local', port=80): Read timed out. (read \n",
       "timeout=5)\n"
      ]
     },
     "metadata": {},
     "output_type": "display_data"
    },
    {
     "data": {
      "text/html": [
       "<pre style=\"white-space:pre;overflow-x:auto;line-height:normal;font-family:Menlo,'DejaVu Sans Mono',consolas,'Courier New',monospace\">⚠️ Request failed for ASIN: B07QHDDF8W - HTTPConnectionPool(host='shoplens.local', port=80): Read timed out. (read \n",
       "timeout=5)\n",
       "</pre>\n"
      ],
      "text/plain": [
       "⚠️ Request failed for ASIN: B07QHDDF8W - HTTPConnectionPool(host='shoplens.local', port=80): Read timed out. (read \n",
       "timeout=5)\n"
      ]
     },
     "metadata": {},
     "output_type": "display_data"
    },
    {
     "data": {
      "text/html": [
       "<pre style=\"white-space:pre;overflow-x:auto;line-height:normal;font-family:Menlo,'DejaVu Sans Mono',consolas,'Courier New',monospace\">⚠️ Request failed for ASIN: B000PVJD0C - HTTPConnectionPool(host='shoplens.local', port=80): Read timed out. (read \n",
       "timeout=5)\n",
       "</pre>\n"
      ],
      "text/plain": [
       "⚠️ Request failed for ASIN: B000PVJD0C - HTTPConnectionPool(host='shoplens.local', port=80): Read timed out. (read \n",
       "timeout=5)\n"
      ]
     },
     "metadata": {},
     "output_type": "display_data"
    },
    {
     "data": {
      "text/html": [
       "<pre style=\"white-space:pre;overflow-x:auto;line-height:normal;font-family:Menlo,'DejaVu Sans Mono',consolas,'Courier New',monospace\">⚠️ Request failed for ASIN: B09N2YTGCX - HTTPConnectionPool(host='shoplens.local', port=80): Read timed out. (read \n",
       "timeout=5)\n",
       "</pre>\n"
      ],
      "text/plain": [
       "⚠️ Request failed for ASIN: B09N2YTGCX - HTTPConnectionPool(host='shoplens.local', port=80): Read timed out. (read \n",
       "timeout=5)\n"
      ]
     },
     "metadata": {},
     "output_type": "display_data"
    },
    {
     "data": {
      "text/html": [
       "<pre style=\"white-space:pre;overflow-x:auto;line-height:normal;font-family:Menlo,'DejaVu Sans Mono',consolas,'Courier New',monospace\">⚠️ Request failed for ASIN: B001T8KQ7Y - HTTPConnectionPool(host='shoplens.local', port=80): Read timed out. (read \n",
       "timeout=5)\n",
       "</pre>\n"
      ],
      "text/plain": [
       "⚠️ Request failed for ASIN: B001T8KQ7Y - HTTPConnectionPool(host='shoplens.local', port=80): Read timed out. (read \n",
       "timeout=5)\n"
      ]
     },
     "metadata": {},
     "output_type": "display_data"
    },
    {
     "data": {
      "text/html": [
       "<pre style=\"white-space:pre;overflow-x:auto;line-height:normal;font-family:Menlo,'DejaVu Sans Mono',consolas,'Courier New',monospace\">⚠️ Request failed for ASIN: B08HNCCP1J - HTTPConnectionPool(host='shoplens.local', port=80): Read timed out. (read \n",
       "timeout=5)\n",
       "</pre>\n"
      ],
      "text/plain": [
       "⚠️ Request failed for ASIN: B08HNCCP1J - HTTPConnectionPool(host='shoplens.local', port=80): Read timed out. (read \n",
       "timeout=5)\n"
      ]
     },
     "metadata": {},
     "output_type": "display_data"
    },
    {
     "data": {
      "text/html": [
       "<pre style=\"white-space:pre;overflow-x:auto;line-height:normal;font-family:Menlo,'DejaVu Sans Mono',consolas,'Courier New',monospace\">⚠️ Request failed for ASIN: B0BY9H225F - HTTPConnectionPool(host='shoplens.local', port=80): Read timed out. (read \n",
       "timeout=5)\n",
       "</pre>\n"
      ],
      "text/plain": [
       "⚠️ Request failed for ASIN: B0BY9H225F - HTTPConnectionPool(host='shoplens.local', port=80): Read timed out. (read \n",
       "timeout=5)\n"
      ]
     },
     "metadata": {},
     "output_type": "display_data"
    },
    {
     "data": {
      "text/html": [
       "<pre style=\"white-space:pre;overflow-x:auto;line-height:normal;font-family:Menlo,'DejaVu Sans Mono',consolas,'Courier New',monospace\">⚠️ Request failed for ASIN: B0BYC8MPLQ - HTTPConnectionPool(host='shoplens.local', port=80): Read timed out. (read \n",
       "timeout=5)\n",
       "</pre>\n"
      ],
      "text/plain": [
       "⚠️ Request failed for ASIN: B0BYC8MPLQ - HTTPConnectionPool(host='shoplens.local', port=80): Read timed out. (read \n",
       "timeout=5)\n"
      ]
     },
     "metadata": {},
     "output_type": "display_data"
    },
    {
     "data": {
      "text/html": [
       "<pre style=\"white-space:pre;overflow-x:auto;line-height:normal;font-family:Menlo,'DejaVu Sans Mono',consolas,'Courier New',monospace\">⚠️ Request failed for ASIN: B0BYF68NZD - HTTPConnectionPool(host='shoplens.local', port=80): Read timed out. (read \n",
       "timeout=5)\n",
       "</pre>\n"
      ],
      "text/plain": [
       "⚠️ Request failed for ASIN: B0BYF68NZD - HTTPConnectionPool(host='shoplens.local', port=80): Read timed out. (read \n",
       "timeout=5)\n"
      ]
     },
     "metadata": {},
     "output_type": "display_data"
    },
    {
     "data": {
      "text/html": [
       "<pre style=\"white-space:pre;overflow-x:auto;line-height:normal;font-family:Menlo,'DejaVu Sans Mono',consolas,'Courier New',monospace\">⚠️ Request failed for ASIN: B0B53D2GD3 - HTTPConnectionPool(host='shoplens.local', port=80): Read timed out. (read \n",
       "timeout=5)\n",
       "</pre>\n"
      ],
      "text/plain": [
       "⚠️ Request failed for ASIN: B0B53D2GD3 - HTTPConnectionPool(host='shoplens.local', port=80): Read timed out. (read \n",
       "timeout=5)\n"
      ]
     },
     "metadata": {},
     "output_type": "display_data"
    },
    {
     "data": {
      "text/html": [
       "<pre style=\"white-space:pre;overflow-x:auto;line-height:normal;font-family:Menlo,'DejaVu Sans Mono',consolas,'Courier New',monospace\">⚠️ Request failed for ASIN: B09WMVB1CG - HTTPConnectionPool(host='shoplens.local', port=80): Read timed out. (read \n",
       "timeout=5)\n",
       "</pre>\n"
      ],
      "text/plain": [
       "⚠️ Request failed for ASIN: B09WMVB1CG - HTTPConnectionPool(host='shoplens.local', port=80): Read timed out. (read \n",
       "timeout=5)\n"
      ]
     },
     "metadata": {},
     "output_type": "display_data"
    },
    {
     "data": {
      "text/html": [
       "<pre style=\"white-space:pre;overflow-x:auto;line-height:normal;font-family:Menlo,'DejaVu Sans Mono',consolas,'Courier New',monospace\">⚠️ Request failed for ASIN: B078J7TRZS - HTTPConnectionPool(host='shoplens.local', port=80): Read timed out. (read \n",
       "timeout=5)\n",
       "</pre>\n"
      ],
      "text/plain": [
       "⚠️ Request failed for ASIN: B078J7TRZS - HTTPConnectionPool(host='shoplens.local', port=80): Read timed out. (read \n",
       "timeout=5)\n"
      ]
     },
     "metadata": {},
     "output_type": "display_data"
    },
    {
     "data": {
      "text/html": [
       "<pre style=\"white-space:pre;overflow-x:auto;line-height:normal;font-family:Menlo,'DejaVu Sans Mono',consolas,'Courier New',monospace\">⚠️ Request failed for ASIN: B0BZJHBPBM - HTTPConnectionPool(host='shoplens.local', port=80): Read timed out. (read \n",
       "timeout=5)\n",
       "</pre>\n"
      ],
      "text/plain": [
       "⚠️ Request failed for ASIN: B0BZJHBPBM - HTTPConnectionPool(host='shoplens.local', port=80): Read timed out. (read \n",
       "timeout=5)\n"
      ]
     },
     "metadata": {},
     "output_type": "display_data"
    },
    {
     "data": {
      "text/html": [
       "<pre style=\"white-space:pre;overflow-x:auto;line-height:normal;font-family:Menlo,'DejaVu Sans Mono',consolas,'Courier New',monospace\">⚠️ Request failed for ASIN: B0CF3SPF1C - HTTPConnectionPool(host='shoplens.local', port=80): Read timed out. (read \n",
       "timeout=5)\n",
       "</pre>\n"
      ],
      "text/plain": [
       "⚠️ Request failed for ASIN: B0CF3SPF1C - HTTPConnectionPool(host='shoplens.local', port=80): Read timed out. (read \n",
       "timeout=5)\n"
      ]
     },
     "metadata": {},
     "output_type": "display_data"
    },
    {
     "data": {
      "text/html": [
       "<pre style=\"white-space:pre;overflow-x:auto;line-height:normal;font-family:Menlo,'DejaVu Sans Mono',consolas,'Courier New',monospace\">⚠️ Request failed for ASIN: B0BRJ68G8H - HTTPConnectionPool(host='shoplens.local', port=80): Read timed out. (read \n",
       "timeout=5)\n",
       "</pre>\n"
      ],
      "text/plain": [
       "⚠️ Request failed for ASIN: B0BRJ68G8H - HTTPConnectionPool(host='shoplens.local', port=80): Read timed out. (read \n",
       "timeout=5)\n"
      ]
     },
     "metadata": {},
     "output_type": "display_data"
    },
    {
     "data": {
      "text/html": [
       "<pre style=\"white-space:pre;overflow-x:auto;line-height:normal;font-family:Menlo,'DejaVu Sans Mono',consolas,'Courier New',monospace\">⚠️ Request failed for ASIN: B0CKLH9RKX - HTTPConnectionPool(host='shoplens.local', port=80): Read timed out. (read \n",
       "timeout=5)\n",
       "</pre>\n"
      ],
      "text/plain": [
       "⚠️ Request failed for ASIN: B0CKLH9RKX - HTTPConnectionPool(host='shoplens.local', port=80): Read timed out. (read \n",
       "timeout=5)\n"
      ]
     },
     "metadata": {},
     "output_type": "display_data"
    },
    {
     "data": {
      "text/html": [
       "<pre style=\"white-space:pre;overflow-x:auto;line-height:normal;font-family:Menlo,'DejaVu Sans Mono',consolas,'Courier New',monospace\">⚠️ Request failed for ASIN: B0BXXFVPNV - HTTPConnectionPool(host='shoplens.local', port=80): Read timed out. (read \n",
       "timeout=5)\n",
       "</pre>\n"
      ],
      "text/plain": [
       "⚠️ Request failed for ASIN: B0BXXFVPNV - HTTPConnectionPool(host='shoplens.local', port=80): Read timed out. (read \n",
       "timeout=5)\n"
      ]
     },
     "metadata": {},
     "output_type": "display_data"
    },
    {
     "data": {
      "text/html": [
       "<pre style=\"white-space:pre;overflow-x:auto;line-height:normal;font-family:Menlo,'DejaVu Sans Mono',consolas,'Courier New',monospace\">⚠️ Request failed for ASIN: B09GWC3564 - HTTPConnectionPool(host='shoplens.local', port=80): Read timed out. (read \n",
       "timeout=5)\n",
       "</pre>\n"
      ],
      "text/plain": [
       "⚠️ Request failed for ASIN: B09GWC3564 - HTTPConnectionPool(host='shoplens.local', port=80): Read timed out. (read \n",
       "timeout=5)\n"
      ]
     },
     "metadata": {},
     "output_type": "display_data"
    },
    {
     "data": {
      "text/html": [
       "<pre style=\"white-space:pre;overflow-x:auto;line-height:normal;font-family:Menlo,'DejaVu Sans Mono',consolas,'Courier New',monospace\">⚠️ Request failed for ASIN: B0C5GLPWDL - HTTPConnectionPool(host='shoplens.local', port=80): Read timed out. (read \n",
       "timeout=5)\n",
       "</pre>\n"
      ],
      "text/plain": [
       "⚠️ Request failed for ASIN: B0C5GLPWDL - HTTPConnectionPool(host='shoplens.local', port=80): Read timed out. (read \n",
       "timeout=5)\n"
      ]
     },
     "metadata": {},
     "output_type": "display_data"
    },
    {
     "data": {
      "text/html": [
       "<pre style=\"white-space:pre;overflow-x:auto;line-height:normal;font-family:Menlo,'DejaVu Sans Mono',consolas,'Courier New',monospace\">⚠️ Request failed for ASIN: B0B56RDDPM - HTTPConnectionPool(host='shoplens.local', port=80): Read timed out. (read \n",
       "timeout=5)\n",
       "</pre>\n"
      ],
      "text/plain": [
       "⚠️ Request failed for ASIN: B0B56RDDPM - HTTPConnectionPool(host='shoplens.local', port=80): Read timed out. (read \n",
       "timeout=5)\n"
      ]
     },
     "metadata": {},
     "output_type": "display_data"
    },
    {
     "data": {
      "text/html": [
       "<pre style=\"white-space:pre;overflow-x:auto;line-height:normal;font-family:Menlo,'DejaVu Sans Mono',consolas,'Courier New',monospace\">⚠️ Request failed for ASIN: B0CHFWZP2W - HTTPConnectionPool(host='shoplens.local', port=80): Read timed out. (read \n",
       "timeout=5)\n",
       "</pre>\n"
      ],
      "text/plain": [
       "⚠️ Request failed for ASIN: B0CHFWZP2W - HTTPConnectionPool(host='shoplens.local', port=80): Read timed out. (read \n",
       "timeout=5)\n"
      ]
     },
     "metadata": {},
     "output_type": "display_data"
    },
    {
     "data": {
      "text/html": [
       "<pre style=\"white-space:pre;overflow-x:auto;line-height:normal;font-family:Menlo,'DejaVu Sans Mono',consolas,'Courier New',monospace\">⚠️ Request failed for ASIN: B0B6W3RMM9 - HTTPConnectionPool(host='shoplens.local', port=80): Read timed out. (read \n",
       "timeout=5)\n",
       "</pre>\n"
      ],
      "text/plain": [
       "⚠️ Request failed for ASIN: B0B6W3RMM9 - HTTPConnectionPool(host='shoplens.local', port=80): Read timed out. (read \n",
       "timeout=5)\n"
      ]
     },
     "metadata": {},
     "output_type": "display_data"
    },
    {
     "data": {
      "text/html": [
       "<pre style=\"white-space:pre;overflow-x:auto;line-height:normal;font-family:Menlo,'DejaVu Sans Mono',consolas,'Courier New',monospace\">⚠️ Request failed for ASIN: B0C6KWYQ2W - HTTPConnectionPool(host='shoplens.local', port=80): Read timed out. (read \n",
       "timeout=5)\n",
       "</pre>\n"
      ],
      "text/plain": [
       "⚠️ Request failed for ASIN: B0C6KWYQ2W - HTTPConnectionPool(host='shoplens.local', port=80): Read timed out. (read \n",
       "timeout=5)\n"
      ]
     },
     "metadata": {},
     "output_type": "display_data"
    },
    {
     "data": {
      "text/html": [
       "<pre style=\"white-space:pre;overflow-x:auto;line-height:normal;font-family:Menlo,'DejaVu Sans Mono',consolas,'Courier New',monospace\">⚠️ Request failed for ASIN: B0BBVH2XRP - HTTPConnectionPool(host='shoplens.local', port=80): Read timed out. (read \n",
       "timeout=5)\n",
       "</pre>\n"
      ],
      "text/plain": [
       "⚠️ Request failed for ASIN: B0BBVH2XRP - HTTPConnectionPool(host='shoplens.local', port=80): Read timed out. (read \n",
       "timeout=5)\n"
      ]
     },
     "metadata": {},
     "output_type": "display_data"
    },
    {
     "data": {
      "text/html": [
       "<pre style=\"white-space:pre;overflow-x:auto;line-height:normal;font-family:Menlo,'DejaVu Sans Mono',consolas,'Courier New',monospace\">⚠️ Request failed for ASIN: B0B5GXM4LF - HTTPConnectionPool(host='shoplens.local', port=80): Read timed out. (read \n",
       "timeout=5)\n",
       "</pre>\n"
      ],
      "text/plain": [
       "⚠️ Request failed for ASIN: B0B5GXM4LF - HTTPConnectionPool(host='shoplens.local', port=80): Read timed out. (read \n",
       "timeout=5)\n"
      ]
     },
     "metadata": {},
     "output_type": "display_data"
    },
    {
     "data": {
      "text/html": [
       "<pre style=\"white-space:pre;overflow-x:auto;line-height:normal;font-family:Menlo,'DejaVu Sans Mono',consolas,'Courier New',monospace\">⚠️ Request failed for ASIN: B0BZRQX34K - HTTPConnectionPool(host='shoplens.local', port=80): Read timed out. (read \n",
       "timeout=5)\n",
       "</pre>\n"
      ],
      "text/plain": [
       "⚠️ Request failed for ASIN: B0BZRQX34K - HTTPConnectionPool(host='shoplens.local', port=80): Read timed out. (read \n",
       "timeout=5)\n"
      ]
     },
     "metadata": {},
     "output_type": "display_data"
    },
    {
     "data": {
      "text/html": [
       "<pre style=\"white-space:pre;overflow-x:auto;line-height:normal;font-family:Menlo,'DejaVu Sans Mono',consolas,'Courier New',monospace\">⚠️ Request failed for ASIN: B0CGM92XMF - HTTPConnectionPool(host='shoplens.local', port=80): Read timed out. (read \n",
       "timeout=5)\n",
       "</pre>\n"
      ],
      "text/plain": [
       "⚠️ Request failed for ASIN: B0CGM92XMF - HTTPConnectionPool(host='shoplens.local', port=80): Read timed out. (read \n",
       "timeout=5)\n"
      ]
     },
     "metadata": {},
     "output_type": "display_data"
    },
    {
     "data": {
      "text/html": [
       "<pre style=\"white-space:pre;overflow-x:auto;line-height:normal;font-family:Menlo,'DejaVu Sans Mono',consolas,'Courier New',monospace\">⚠️ Request failed for ASIN: B00QS998TG - HTTPConnectionPool(host='shoplens.local', port=80): Read timed out. (read \n",
       "timeout=5)\n",
       "</pre>\n"
      ],
      "text/plain": [
       "⚠️ Request failed for ASIN: B00QS998TG - HTTPConnectionPool(host='shoplens.local', port=80): Read timed out. (read \n",
       "timeout=5)\n"
      ]
     },
     "metadata": {},
     "output_type": "display_data"
    },
    {
     "data": {
      "text/html": [
       "<pre style=\"white-space:pre;overflow-x:auto;line-height:normal;font-family:Menlo,'DejaVu Sans Mono',consolas,'Courier New',monospace\">⚠️ Request failed for ASIN: B0BQJH1JSW - HTTPConnectionPool(host='shoplens.local', port=80): Read timed out. (read \n",
       "timeout=5)\n",
       "</pre>\n"
      ],
      "text/plain": [
       "⚠️ Request failed for ASIN: B0BQJH1JSW - HTTPConnectionPool(host='shoplens.local', port=80): Read timed out. (read \n",
       "timeout=5)\n"
      ]
     },
     "metadata": {},
     "output_type": "display_data"
    },
    {
     "data": {
      "text/html": [
       "<pre style=\"white-space:pre;overflow-x:auto;line-height:normal;font-family:Menlo,'DejaVu Sans Mono',consolas,'Courier New',monospace\">⚠️ Request failed for ASIN: B0BRZ22LGG - HTTPConnectionPool(host='shoplens.local', port=80): Read timed out. (read \n",
       "timeout=5)\n",
       "</pre>\n"
      ],
      "text/plain": [
       "⚠️ Request failed for ASIN: B0BRZ22LGG - HTTPConnectionPool(host='shoplens.local', port=80): Read timed out. (read \n",
       "timeout=5)\n"
      ]
     },
     "metadata": {},
     "output_type": "display_data"
    },
    {
     "data": {
      "text/html": [
       "<pre style=\"white-space:pre;overflow-x:auto;line-height:normal;font-family:Menlo,'DejaVu Sans Mono',consolas,'Courier New',monospace\">⚠️ Request failed for ASIN: B09MZ3ZRZ8 - HTTPConnectionPool(host='shoplens.local', port=80): Read timed out. (read \n",
       "timeout=5)\n",
       "</pre>\n"
      ],
      "text/plain": [
       "⚠️ Request failed for ASIN: B09MZ3ZRZ8 - HTTPConnectionPool(host='shoplens.local', port=80): Read timed out. (read \n",
       "timeout=5)\n"
      ]
     },
     "metadata": {},
     "output_type": "display_data"
    },
    {
     "data": {
      "text/html": [
       "<pre style=\"white-space:pre;overflow-x:auto;line-height:normal;font-family:Menlo,'DejaVu Sans Mono',consolas,'Courier New',monospace\">⚠️ Request failed for ASIN: B0B3RBCC3W - HTTPConnectionPool(host='shoplens.local', port=80): Read timed out. (read \n",
       "timeout=5)\n",
       "</pre>\n"
      ],
      "text/plain": [
       "⚠️ Request failed for ASIN: B0B3RBCC3W - HTTPConnectionPool(host='shoplens.local', port=80): Read timed out. (read \n",
       "timeout=5)\n"
      ]
     },
     "metadata": {},
     "output_type": "display_data"
    },
    {
     "data": {
      "text/html": [
       "<pre style=\"white-space:pre;overflow-x:auto;line-height:normal;font-family:Menlo,'DejaVu Sans Mono',consolas,'Courier New',monospace\">⚠️ Request failed for ASIN: B013RE5JSS - HTTPConnectionPool(host='shoplens.local', port=80): Read timed out. (read \n",
       "timeout=5)\n",
       "</pre>\n"
      ],
      "text/plain": [
       "⚠️ Request failed for ASIN: B013RE5JSS - HTTPConnectionPool(host='shoplens.local', port=80): Read timed out. (read \n",
       "timeout=5)\n"
      ]
     },
     "metadata": {},
     "output_type": "display_data"
    },
    {
     "data": {
      "text/html": [
       "<pre style=\"white-space:pre;overflow-x:auto;line-height:normal;font-family:Menlo,'DejaVu Sans Mono',consolas,'Courier New',monospace\">⚠️ Request failed for ASIN: B09D7L6RHC - HTTPConnectionPool(host='shoplens.local', port=80): Read timed out. (read \n",
       "timeout=5)\n",
       "</pre>\n"
      ],
      "text/plain": [
       "⚠️ Request failed for ASIN: B09D7L6RHC - HTTPConnectionPool(host='shoplens.local', port=80): Read timed out. (read \n",
       "timeout=5)\n"
      ]
     },
     "metadata": {},
     "output_type": "display_data"
    },
    {
     "data": {
      "text/html": [
       "<pre style=\"white-space:pre;overflow-x:auto;line-height:normal;font-family:Menlo,'DejaVu Sans Mono',consolas,'Courier New',monospace\">⚠️ Request failed for ASIN: B08N55SKMT - HTTPConnectionPool(host='shoplens.local', port=80): Read timed out. (read \n",
       "timeout=5)\n",
       "</pre>\n"
      ],
      "text/plain": [
       "⚠️ Request failed for ASIN: B08N55SKMT - HTTPConnectionPool(host='shoplens.local', port=80): Read timed out. (read \n",
       "timeout=5)\n"
      ]
     },
     "metadata": {},
     "output_type": "display_data"
    },
    {
     "data": {
      "text/html": [
       "<pre style=\"white-space:pre;overflow-x:auto;line-height:normal;font-family:Menlo,'DejaVu Sans Mono',consolas,'Courier New',monospace\">⚠️ Request failed for ASIN: B07MZKGC51 - HTTPConnectionPool(host='shoplens.local', port=80): Read timed out. (read \n",
       "timeout=5)\n",
       "</pre>\n"
      ],
      "text/plain": [
       "⚠️ Request failed for ASIN: B07MZKGC51 - HTTPConnectionPool(host='shoplens.local', port=80): Read timed out. (read \n",
       "timeout=5)\n"
      ]
     },
     "metadata": {},
     "output_type": "display_data"
    },
    {
     "data": {
      "text/html": [
       "<pre style=\"white-space:pre;overflow-x:auto;line-height:normal;font-family:Menlo,'DejaVu Sans Mono',consolas,'Courier New',monospace\">⚠️ Request failed for ASIN: B08RXFL7NZ - HTTPConnectionPool(host='shoplens.local', port=80): Read timed out. (read \n",
       "timeout=5)\n",
       "</pre>\n"
      ],
      "text/plain": [
       "⚠️ Request failed for ASIN: B08RXFL7NZ - HTTPConnectionPool(host='shoplens.local', port=80): Read timed out. (read \n",
       "timeout=5)\n"
      ]
     },
     "metadata": {},
     "output_type": "display_data"
    },
    {
     "data": {
      "text/html": [
       "<pre style=\"white-space:pre;overflow-x:auto;line-height:normal;font-family:Menlo,'DejaVu Sans Mono',consolas,'Courier New',monospace\">⚠️ Request failed for ASIN: B07YZHD1M5 - HTTPConnectionPool(host='shoplens.local', port=80): Read timed out. (read \n",
       "timeout=5)\n",
       "</pre>\n"
      ],
      "text/plain": [
       "⚠️ Request failed for ASIN: B07YZHD1M5 - HTTPConnectionPool(host='shoplens.local', port=80): Read timed out. (read \n",
       "timeout=5)\n"
      ]
     },
     "metadata": {},
     "output_type": "display_data"
    },
    {
     "data": {
      "text/html": [
       "<pre style=\"white-space:pre;overflow-x:auto;line-height:normal;font-family:Menlo,'DejaVu Sans Mono',consolas,'Courier New',monospace\">⚠️ Request failed for ASIN: B08V5N8X2D - HTTPConnectionPool(host='shoplens.local', port=80): Read timed out. (read \n",
       "timeout=5)\n",
       "</pre>\n"
      ],
      "text/plain": [
       "⚠️ Request failed for ASIN: B08V5N8X2D - HTTPConnectionPool(host='shoplens.local', port=80): Read timed out. (read \n",
       "timeout=5)\n"
      ]
     },
     "metadata": {},
     "output_type": "display_data"
    },
    {
     "data": {
      "text/html": [
       "<pre style=\"white-space:pre;overflow-x:auto;line-height:normal;font-family:Menlo,'DejaVu Sans Mono',consolas,'Courier New',monospace\">⚠️ Request failed for ASIN: B0CC85H3KN - HTTPConnectionPool(host='shoplens.local', port=80): Read timed out. (read \n",
       "timeout=5)\n",
       "</pre>\n"
      ],
      "text/plain": [
       "⚠️ Request failed for ASIN: B0CC85H3KN - HTTPConnectionPool(host='shoplens.local', port=80): Read timed out. (read \n",
       "timeout=5)\n"
      ]
     },
     "metadata": {},
     "output_type": "display_data"
    },
    {
     "data": {
      "text/html": [
       "<pre style=\"white-space:pre;overflow-x:auto;line-height:normal;font-family:Menlo,'DejaVu Sans Mono',consolas,'Courier New',monospace\">⚠️ Request failed for ASIN: B0BNLXG7F5 - HTTPConnectionPool(host='shoplens.local', port=80): Read timed out. (read \n",
       "timeout=5)\n",
       "</pre>\n"
      ],
      "text/plain": [
       "⚠️ Request failed for ASIN: B0BNLXG7F5 - HTTPConnectionPool(host='shoplens.local', port=80): Read timed out. (read \n",
       "timeout=5)\n"
      ]
     },
     "metadata": {},
     "output_type": "display_data"
    },
    {
     "data": {
      "text/html": [
       "<pre style=\"white-space:pre;overflow-x:auto;line-height:normal;font-family:Menlo,'DejaVu Sans Mono',consolas,'Courier New',monospace\">⚠️ Request failed for ASIN: B085W9XVWN - HTTPConnectionPool(host='shoplens.local', port=80): Read timed out. (read \n",
       "timeout=5)\n",
       "</pre>\n"
      ],
      "text/plain": [
       "⚠️ Request failed for ASIN: B085W9XVWN - HTTPConnectionPool(host='shoplens.local', port=80): Read timed out. (read \n",
       "timeout=5)\n"
      ]
     },
     "metadata": {},
     "output_type": "display_data"
    },
    {
     "data": {
      "text/html": [
       "<pre style=\"white-space:pre;overflow-x:auto;line-height:normal;font-family:Menlo,'DejaVu Sans Mono',consolas,'Courier New',monospace\">⚠️ Request failed for ASIN: B09WH25ZLF - HTTPConnectionPool(host='shoplens.local', port=80): Read timed out. (read \n",
       "timeout=5)\n",
       "</pre>\n"
      ],
      "text/plain": [
       "⚠️ Request failed for ASIN: B09WH25ZLF - HTTPConnectionPool(host='shoplens.local', port=80): Read timed out. (read \n",
       "timeout=5)\n"
      ]
     },
     "metadata": {},
     "output_type": "display_data"
    },
    {
     "data": {
      "text/html": [
       "<pre style=\"white-space:pre;overflow-x:auto;line-height:normal;font-family:Menlo,'DejaVu Sans Mono',consolas,'Courier New',monospace\">⚠️ Request failed for ASIN: B083HKW9GJ - HTTPConnectionPool(host='shoplens.local', port=80): Read timed out. (read \n",
       "timeout=5)\n",
       "</pre>\n"
      ],
      "text/plain": [
       "⚠️ Request failed for ASIN: B083HKW9GJ - HTTPConnectionPool(host='shoplens.local', port=80): Read timed out. (read \n",
       "timeout=5)\n"
      ]
     },
     "metadata": {},
     "output_type": "display_data"
    },
    {
     "data": {
      "text/html": [
       "<pre style=\"white-space:pre;overflow-x:auto;line-height:normal;font-family:Menlo,'DejaVu Sans Mono',consolas,'Courier New',monospace\">⚠️ Request failed for ASIN: B0CG9V66J4 - HTTPConnectionPool(host='shoplens.local', port=80): Read timed out. (read \n",
       "timeout=5)\n",
       "</pre>\n"
      ],
      "text/plain": [
       "⚠️ Request failed for ASIN: B0CG9V66J4 - HTTPConnectionPool(host='shoplens.local', port=80): Read timed out. (read \n",
       "timeout=5)\n"
      ]
     },
     "metadata": {},
     "output_type": "display_data"
    },
    {
     "data": {
      "text/html": [
       "<pre style=\"white-space:pre;overflow-x:auto;line-height:normal;font-family:Menlo,'DejaVu Sans Mono',consolas,'Courier New',monospace\">⚠️ Request failed for ASIN: B08FMDLK1F - HTTPConnectionPool(host='shoplens.local', port=80): Read timed out. (read \n",
       "timeout=5)\n",
       "</pre>\n"
      ],
      "text/plain": [
       "⚠️ Request failed for ASIN: B08FMDLK1F - HTTPConnectionPool(host='shoplens.local', port=80): Read timed out. (read \n",
       "timeout=5)\n"
      ]
     },
     "metadata": {},
     "output_type": "display_data"
    },
    {
     "data": {
      "text/html": [
       "<pre style=\"white-space:pre;overflow-x:auto;line-height:normal;font-family:Menlo,'DejaVu Sans Mono',consolas,'Courier New',monospace\">⚠️ Request failed for ASIN: B0C8TS85M5 - HTTPConnectionPool(host='shoplens.local', port=80): Read timed out. (read \n",
       "timeout=5)\n",
       "</pre>\n"
      ],
      "text/plain": [
       "⚠️ Request failed for ASIN: B0C8TS85M5 - HTTPConnectionPool(host='shoplens.local', port=80): Read timed out. (read \n",
       "timeout=5)\n"
      ]
     },
     "metadata": {},
     "output_type": "display_data"
    },
    {
     "data": {
      "text/html": [
       "<pre style=\"white-space:pre;overflow-x:auto;line-height:normal;font-family:Menlo,'DejaVu Sans Mono',consolas,'Courier New',monospace\">⚠️ Request failed for ASIN: B0BJQSHNNB - HTTPConnectionPool(host='shoplens.local', port=80): Read timed out. (read \n",
       "timeout=5)\n",
       "</pre>\n"
      ],
      "text/plain": [
       "⚠️ Request failed for ASIN: B0BJQSHNNB - HTTPConnectionPool(host='shoplens.local', port=80): Read timed out. (read \n",
       "timeout=5)\n"
      ]
     },
     "metadata": {},
     "output_type": "display_data"
    },
    {
     "data": {
      "text/html": [
       "<pre style=\"white-space:pre;overflow-x:auto;line-height:normal;font-family:Menlo,'DejaVu Sans Mono',consolas,'Courier New',monospace\">⚠️ Request failed for ASIN: B08QRJ5XRS - HTTPConnectionPool(host='shoplens.local', port=80): Read timed out. (read \n",
       "timeout=5)\n",
       "</pre>\n"
      ],
      "text/plain": [
       "⚠️ Request failed for ASIN: B08QRJ5XRS - HTTPConnectionPool(host='shoplens.local', port=80): Read timed out. (read \n",
       "timeout=5)\n"
      ]
     },
     "metadata": {},
     "output_type": "display_data"
    },
    {
     "data": {
      "text/html": [
       "<pre style=\"white-space:pre;overflow-x:auto;line-height:normal;font-family:Menlo,'DejaVu Sans Mono',consolas,'Courier New',monospace\">⚠️ Request failed for ASIN: B075KP9VKX - HTTPConnectionPool(host='shoplens.local', port=80): Read timed out. (read \n",
       "timeout=5)\n",
       "</pre>\n"
      ],
      "text/plain": [
       "⚠️ Request failed for ASIN: B075KP9VKX - HTTPConnectionPool(host='shoplens.local', port=80): Read timed out. (read \n",
       "timeout=5)\n"
      ]
     },
     "metadata": {},
     "output_type": "display_data"
    },
    {
     "data": {
      "text/html": [
       "<pre style=\"white-space:pre;overflow-x:auto;line-height:normal;font-family:Menlo,'DejaVu Sans Mono',consolas,'Courier New',monospace\">⚠️ Request failed for ASIN: B07643F92V - HTTPConnectionPool(host='shoplens.local', port=80): Read timed out. (read \n",
       "timeout=5)\n",
       "</pre>\n"
      ],
      "text/plain": [
       "⚠️ Request failed for ASIN: B07643F92V - HTTPConnectionPool(host='shoplens.local', port=80): Read timed out. (read \n",
       "timeout=5)\n"
      ]
     },
     "metadata": {},
     "output_type": "display_data"
    },
    {
     "data": {
      "text/html": [
       "<pre style=\"white-space:pre;overflow-x:auto;line-height:normal;font-family:Menlo,'DejaVu Sans Mono',consolas,'Courier New',monospace\">⚠️ Request failed for ASIN: B0BKH8T9BC - HTTPConnectionPool(host='shoplens.local', port=80): Read timed out. (read \n",
       "timeout=5)\n",
       "</pre>\n"
      ],
      "text/plain": [
       "⚠️ Request failed for ASIN: B0BKH8T9BC - HTTPConnectionPool(host='shoplens.local', port=80): Read timed out. (read \n",
       "timeout=5)\n"
      ]
     },
     "metadata": {},
     "output_type": "display_data"
    },
    {
     "data": {
      "text/html": [
       "<pre style=\"white-space:pre;overflow-x:auto;line-height:normal;font-family:Menlo,'DejaVu Sans Mono',consolas,'Courier New',monospace\">⚠️ Request failed for ASIN: B084TNZM62 - HTTPConnectionPool(host='shoplens.local', port=80): Read timed out. (read \n",
       "timeout=5)\n",
       "</pre>\n"
      ],
      "text/plain": [
       "⚠️ Request failed for ASIN: B084TNZM62 - HTTPConnectionPool(host='shoplens.local', port=80): Read timed out. (read \n",
       "timeout=5)\n"
      ]
     },
     "metadata": {},
     "output_type": "display_data"
    },
    {
     "data": {
      "text/html": [
       "<pre style=\"white-space:pre;overflow-x:auto;line-height:normal;font-family:Menlo,'DejaVu Sans Mono',consolas,'Courier New',monospace\">⚠️ Request failed for ASIN: B07ZRLYCS6 - HTTPConnectionPool(host='shoplens.local', port=80): Read timed out. (read \n",
       "timeout=5)\n",
       "</pre>\n"
      ],
      "text/plain": [
       "⚠️ Request failed for ASIN: B07ZRLYCS6 - HTTPConnectionPool(host='shoplens.local', port=80): Read timed out. (read \n",
       "timeout=5)\n"
      ]
     },
     "metadata": {},
     "output_type": "display_data"
    },
    {
     "data": {
      "text/html": [
       "<pre style=\"white-space:pre;overflow-x:auto;line-height:normal;font-family:Menlo,'DejaVu Sans Mono',consolas,'Courier New',monospace\">⚠️ Request failed for ASIN: B0B3N5WLV5 - HTTPConnectionPool(host='shoplens.local', port=80): Read timed out. (read \n",
       "timeout=5)\n",
       "</pre>\n"
      ],
      "text/plain": [
       "⚠️ Request failed for ASIN: B0B3N5WLV5 - HTTPConnectionPool(host='shoplens.local', port=80): Read timed out. (read \n",
       "timeout=5)\n"
      ]
     },
     "metadata": {},
     "output_type": "display_data"
    },
    {
     "data": {
      "text/html": [
       "<pre style=\"white-space:pre;overflow-x:auto;line-height:normal;font-family:Menlo,'DejaVu Sans Mono',consolas,'Courier New',monospace\">⚠️ Request failed for ASIN: B0BBVWTC88 - HTTPConnectionPool(host='shoplens.local', port=80): Read timed out. (read \n",
       "timeout=5)\n",
       "</pre>\n"
      ],
      "text/plain": [
       "⚠️ Request failed for ASIN: B0BBVWTC88 - HTTPConnectionPool(host='shoplens.local', port=80): Read timed out. (read \n",
       "timeout=5)\n"
      ]
     },
     "metadata": {},
     "output_type": "display_data"
    },
    {
     "data": {
      "text/html": [
       "<pre style=\"white-space:pre;overflow-x:auto;line-height:normal;font-family:Menlo,'DejaVu Sans Mono',consolas,'Courier New',monospace\">⚠️ Request failed for ASIN: B07KJC6FLQ - HTTPConnectionPool(host='shoplens.local', port=80): Read timed out. (read \n",
       "timeout=5)\n",
       "</pre>\n"
      ],
      "text/plain": [
       "⚠️ Request failed for ASIN: B07KJC6FLQ - HTTPConnectionPool(host='shoplens.local', port=80): Read timed out. (read \n",
       "timeout=5)\n"
      ]
     },
     "metadata": {},
     "output_type": "display_data"
    },
    {
     "data": {
      "text/html": [
       "<pre style=\"white-space:pre;overflow-x:auto;line-height:normal;font-family:Menlo,'DejaVu Sans Mono',consolas,'Courier New',monospace\">⚠️ Request failed for ASIN: B08BHSKXF6 - HTTPConnectionPool(host='shoplens.local', port=80): Read timed out. (read \n",
       "timeout=5)\n",
       "</pre>\n"
      ],
      "text/plain": [
       "⚠️ Request failed for ASIN: B08BHSKXF6 - HTTPConnectionPool(host='shoplens.local', port=80): Read timed out. (read \n",
       "timeout=5)\n"
      ]
     },
     "metadata": {},
     "output_type": "display_data"
    },
    {
     "data": {
      "text/html": [
       "<pre style=\"white-space:pre;overflow-x:auto;line-height:normal;font-family:Menlo,'DejaVu Sans Mono',consolas,'Courier New',monospace\">⚠️ Request failed for ASIN: B078ZK6RD2 - HTTPConnectionPool(host='shoplens.local', port=80): Read timed out. (read \n",
       "timeout=5)\n",
       "</pre>\n"
      ],
      "text/plain": [
       "⚠️ Request failed for ASIN: B078ZK6RD2 - HTTPConnectionPool(host='shoplens.local', port=80): Read timed out. (read \n",
       "timeout=5)\n"
      ]
     },
     "metadata": {},
     "output_type": "display_data"
    },
    {
     "data": {
      "text/html": [
       "<pre style=\"white-space:pre;overflow-x:auto;line-height:normal;font-family:Menlo,'DejaVu Sans Mono',consolas,'Courier New',monospace\">⚠️ Request failed for ASIN: B0BDMF5ZSF - HTTPConnectionPool(host='shoplens.local', port=80): Read timed out. (read \n",
       "timeout=5)\n",
       "</pre>\n"
      ],
      "text/plain": [
       "⚠️ Request failed for ASIN: B0BDMF5ZSF - HTTPConnectionPool(host='shoplens.local', port=80): Read timed out. (read \n",
       "timeout=5)\n"
      ]
     },
     "metadata": {},
     "output_type": "display_data"
    },
    {
     "data": {
      "text/html": [
       "<pre style=\"white-space:pre;overflow-x:auto;line-height:normal;font-family:Menlo,'DejaVu Sans Mono',consolas,'Courier New',monospace\">⚠️ Request failed for ASIN: B07JWF754Q - HTTPConnectionPool(host='shoplens.local', port=80): Read timed out. (read \n",
       "timeout=5)\n",
       "</pre>\n"
      ],
      "text/plain": [
       "⚠️ Request failed for ASIN: B07JWF754Q - HTTPConnectionPool(host='shoplens.local', port=80): Read timed out. (read \n",
       "timeout=5)\n"
      ]
     },
     "metadata": {},
     "output_type": "display_data"
    },
    {
     "data": {
      "text/html": [
       "<pre style=\"white-space:pre;overflow-x:auto;line-height:normal;font-family:Menlo,'DejaVu Sans Mono',consolas,'Courier New',monospace\">⚠️ Request failed for ASIN: B07HHDKCK6 - HTTPConnectionPool(host='shoplens.local', port=80): Read timed out. (read \n",
       "timeout=5)\n",
       "</pre>\n"
      ],
      "text/plain": [
       "⚠️ Request failed for ASIN: B07HHDKCK6 - HTTPConnectionPool(host='shoplens.local', port=80): Read timed out. (read \n",
       "timeout=5)\n"
      ]
     },
     "metadata": {},
     "output_type": "display_data"
    },
    {
     "data": {
      "text/html": [
       "<pre style=\"white-space:pre;overflow-x:auto;line-height:normal;font-family:Menlo,'DejaVu Sans Mono',consolas,'Courier New',monospace\">⚠️ Request failed for ASIN: B08HSC14PB - HTTPConnectionPool(host='shoplens.local', port=80): Read timed out. (read \n",
       "timeout=5)\n",
       "</pre>\n"
      ],
      "text/plain": [
       "⚠️ Request failed for ASIN: B08HSC14PB - HTTPConnectionPool(host='shoplens.local', port=80): Read timed out. (read \n",
       "timeout=5)\n"
      ]
     },
     "metadata": {},
     "output_type": "display_data"
    },
    {
     "data": {
      "text/html": [
       "<pre style=\"white-space:pre;overflow-x:auto;line-height:normal;font-family:Menlo,'DejaVu Sans Mono',consolas,'Courier New',monospace\">⚠️ Request failed for ASIN: B073GZ2B55 - HTTPConnectionPool(host='shoplens.local', port=80): Read timed out. (read \n",
       "timeout=5)\n",
       "</pre>\n"
      ],
      "text/plain": [
       "⚠️ Request failed for ASIN: B073GZ2B55 - HTTPConnectionPool(host='shoplens.local', port=80): Read timed out. (read \n",
       "timeout=5)\n"
      ]
     },
     "metadata": {},
     "output_type": "display_data"
    },
    {
     "data": {
      "text/html": [
       "<pre style=\"white-space:pre;overflow-x:auto;line-height:normal;font-family:Menlo,'DejaVu Sans Mono',consolas,'Courier New',monospace\">⚠️ Request failed for ASIN: B087R6PP81 - HTTPConnectionPool(host='shoplens.local', port=80): Read timed out. (read \n",
       "timeout=5)\n",
       "</pre>\n"
      ],
      "text/plain": [
       "⚠️ Request failed for ASIN: B087R6PP81 - HTTPConnectionPool(host='shoplens.local', port=80): Read timed out. (read \n",
       "timeout=5)\n"
      ]
     },
     "metadata": {},
     "output_type": "display_data"
    },
    {
     "data": {
      "text/html": [
       "<pre style=\"white-space:pre;overflow-x:auto;line-height:normal;font-family:Menlo,'DejaVu Sans Mono',consolas,'Courier New',monospace\">⚠️ Request failed for ASIN: B09KRLVQ8D - HTTPConnectionPool(host='shoplens.local', port=80): Read timed out. (read \n",
       "timeout=5)\n",
       "</pre>\n"
      ],
      "text/plain": [
       "⚠️ Request failed for ASIN: B09KRLVQ8D - HTTPConnectionPool(host='shoplens.local', port=80): Read timed out. (read \n",
       "timeout=5)\n"
      ]
     },
     "metadata": {},
     "output_type": "display_data"
    },
    {
     "data": {
      "text/html": [
       "<pre style=\"white-space:pre;overflow-x:auto;line-height:normal;font-family:Menlo,'DejaVu Sans Mono',consolas,'Courier New',monospace\">⚠️ Request failed for ASIN: B0BSS7KGZ9 - HTTPConnectionPool(host='shoplens.local', port=80): Read timed out. (read \n",
       "timeout=5)\n",
       "</pre>\n"
      ],
      "text/plain": [
       "⚠️ Request failed for ASIN: B0BSS7KGZ9 - HTTPConnectionPool(host='shoplens.local', port=80): Read timed out. (read \n",
       "timeout=5)\n"
      ]
     },
     "metadata": {},
     "output_type": "display_data"
    },
    {
     "data": {
      "text/html": [
       "<pre style=\"white-space:pre;overflow-x:auto;line-height:normal;font-family:Menlo,'DejaVu Sans Mono',consolas,'Courier New',monospace\">⚠️ Request failed for ASIN: B09KXHDK2P - HTTPConnectionPool(host='shoplens.local', port=80): Read timed out. (read \n",
       "timeout=5)\n",
       "</pre>\n"
      ],
      "text/plain": [
       "⚠️ Request failed for ASIN: B09KXHDK2P - HTTPConnectionPool(host='shoplens.local', port=80): Read timed out. (read \n",
       "timeout=5)\n"
      ]
     },
     "metadata": {},
     "output_type": "display_data"
    },
    {
     "data": {
      "text/html": [
       "<pre style=\"white-space:pre;overflow-x:auto;line-height:normal;font-family:Menlo,'DejaVu Sans Mono',consolas,'Courier New',monospace\">⚠️ Request failed for ASIN: B0BCJZNK3H - HTTPConnectionPool(host='shoplens.local', port=80): Read timed out. (read \n",
       "timeout=5)\n",
       "</pre>\n"
      ],
      "text/plain": [
       "⚠️ Request failed for ASIN: B0BCJZNK3H - HTTPConnectionPool(host='shoplens.local', port=80): Read timed out. (read \n",
       "timeout=5)\n"
      ]
     },
     "metadata": {},
     "output_type": "display_data"
    },
    {
     "data": {
      "text/html": [
       "<pre style=\"white-space:pre;overflow-x:auto;line-height:normal;font-family:Menlo,'DejaVu Sans Mono',consolas,'Courier New',monospace\">⚠️ Request failed for ASIN: B0C7C3Q1V1 - HTTPConnectionPool(host='shoplens.local', port=80): Read timed out. (read \n",
       "timeout=5)\n",
       "</pre>\n"
      ],
      "text/plain": [
       "⚠️ Request failed for ASIN: B0C7C3Q1V1 - HTTPConnectionPool(host='shoplens.local', port=80): Read timed out. (read \n",
       "timeout=5)\n"
      ]
     },
     "metadata": {},
     "output_type": "display_data"
    },
    {
     "data": {
      "text/html": [
       "<pre style=\"white-space:pre;overflow-x:auto;line-height:normal;font-family:Menlo,'DejaVu Sans Mono',consolas,'Courier New',monospace\">⚠️ Request failed for ASIN: B0BW4G7V17 - HTTPConnectionPool(host='shoplens.local', port=80): Read timed out. (read \n",
       "timeout=5)\n",
       "</pre>\n"
      ],
      "text/plain": [
       "⚠️ Request failed for ASIN: B0BW4G7V17 - HTTPConnectionPool(host='shoplens.local', port=80): Read timed out. (read \n",
       "timeout=5)\n"
      ]
     },
     "metadata": {},
     "output_type": "display_data"
    },
    {
     "data": {
      "text/html": [
       "<pre style=\"white-space:pre;overflow-x:auto;line-height:normal;font-family:Menlo,'DejaVu Sans Mono',consolas,'Courier New',monospace\">⚠️ Request failed for ASIN: B0CC5S6BD4 - HTTPConnectionPool(host='shoplens.local', port=80): Read timed out. (read \n",
       "timeout=5)\n",
       "</pre>\n"
      ],
      "text/plain": [
       "⚠️ Request failed for ASIN: B0CC5S6BD4 - HTTPConnectionPool(host='shoplens.local', port=80): Read timed out. (read \n",
       "timeout=5)\n"
      ]
     },
     "metadata": {},
     "output_type": "display_data"
    },
    {
     "data": {
      "text/html": [
       "<pre style=\"white-space:pre;overflow-x:auto;line-height:normal;font-family:Menlo,'DejaVu Sans Mono',consolas,'Courier New',monospace\">⚠️ Request failed for ASIN: B0CF65PF75 - HTTPConnectionPool(host='shoplens.local', port=80): Read timed out. (read \n",
       "timeout=5)\n",
       "</pre>\n"
      ],
      "text/plain": [
       "⚠️ Request failed for ASIN: B0CF65PF75 - HTTPConnectionPool(host='shoplens.local', port=80): Read timed out. (read \n",
       "timeout=5)\n"
      ]
     },
     "metadata": {},
     "output_type": "display_data"
    },
    {
     "data": {
      "text/html": [
       "<pre style=\"white-space:pre;overflow-x:auto;line-height:normal;font-family:Menlo,'DejaVu Sans Mono',consolas,'Courier New',monospace\">⚠️ Request failed for ASIN: B0CGSNPLK4 - HTTPConnectionPool(host='shoplens.local', port=80): Read timed out. (read \n",
       "timeout=5)\n",
       "</pre>\n"
      ],
      "text/plain": [
       "⚠️ Request failed for ASIN: B0CGSNPLK4 - HTTPConnectionPool(host='shoplens.local', port=80): Read timed out. (read \n",
       "timeout=5)\n"
      ]
     },
     "metadata": {},
     "output_type": "display_data"
    },
    {
     "data": {
      "text/html": [
       "<pre style=\"white-space:pre;overflow-x:auto;line-height:normal;font-family:Menlo,'DejaVu Sans Mono',consolas,'Courier New',monospace\">⚠️ Request failed for ASIN: B09S9Z515P - HTTPConnectionPool(host='shoplens.local', port=80): Read timed out. (read \n",
       "timeout=5)\n",
       "</pre>\n"
      ],
      "text/plain": [
       "⚠️ Request failed for ASIN: B09S9Z515P - HTTPConnectionPool(host='shoplens.local', port=80): Read timed out. (read \n",
       "timeout=5)\n"
      ]
     },
     "metadata": {},
     "output_type": "display_data"
    },
    {
     "data": {
      "text/html": [
       "<pre style=\"white-space:pre;overflow-x:auto;line-height:normal;font-family:Menlo,'DejaVu Sans Mono',consolas,'Courier New',monospace\">⚠️ Request failed for ASIN: B0BVRDTBTS - HTTPConnectionPool(host='shoplens.local', port=80): Read timed out. (read \n",
       "timeout=5)\n",
       "</pre>\n"
      ],
      "text/plain": [
       "⚠️ Request failed for ASIN: B0BVRDTBTS - HTTPConnectionPool(host='shoplens.local', port=80): Read timed out. (read \n",
       "timeout=5)\n"
      ]
     },
     "metadata": {},
     "output_type": "display_data"
    },
    {
     "data": {
      "text/html": [
       "<pre style=\"white-space:pre;overflow-x:auto;line-height:normal;font-family:Menlo,'DejaVu Sans Mono',consolas,'Courier New',monospace\">⚠️ Request failed for ASIN: B0BGRY2HRP - HTTPConnectionPool(host='shoplens.local', port=80): Read timed out. (read \n",
       "timeout=5)\n",
       "</pre>\n"
      ],
      "text/plain": [
       "⚠️ Request failed for ASIN: B0BGRY2HRP - HTTPConnectionPool(host='shoplens.local', port=80): Read timed out. (read \n",
       "timeout=5)\n"
      ]
     },
     "metadata": {},
     "output_type": "display_data"
    },
    {
     "data": {
      "text/html": [
       "<pre style=\"white-space:pre;overflow-x:auto;line-height:normal;font-family:Menlo,'DejaVu Sans Mono',consolas,'Courier New',monospace\">⚠️ Request failed for ASIN: B09QQ1NTV1 - HTTPConnectionPool(host='shoplens.local', port=80): Read timed out. (read \n",
       "timeout=5)\n",
       "</pre>\n"
      ],
      "text/plain": [
       "⚠️ Request failed for ASIN: B09QQ1NTV1 - HTTPConnectionPool(host='shoplens.local', port=80): Read timed out. (read \n",
       "timeout=5)\n"
      ]
     },
     "metadata": {},
     "output_type": "display_data"
    },
    {
     "data": {
      "text/html": [
       "<pre style=\"white-space:pre;overflow-x:auto;line-height:normal;font-family:Menlo,'DejaVu Sans Mono',consolas,'Courier New',monospace\">⚠️ Request failed for ASIN: B09XQ6C24V - HTTPConnectionPool(host='shoplens.local', port=80): Read timed out. (read \n",
       "timeout=5)\n",
       "</pre>\n"
      ],
      "text/plain": [
       "⚠️ Request failed for ASIN: B09XQ6C24V - HTTPConnectionPool(host='shoplens.local', port=80): Read timed out. (read \n",
       "timeout=5)\n"
      ]
     },
     "metadata": {},
     "output_type": "display_data"
    },
    {
     "data": {
      "text/html": [
       "<pre style=\"white-space:pre;overflow-x:auto;line-height:normal;font-family:Menlo,'DejaVu Sans Mono',consolas,'Courier New',monospace\">⚠️ Request failed for ASIN: B07Q36CHDL - HTTPConnectionPool(host='shoplens.local', port=80): Read timed out. (read \n",
       "timeout=5)\n",
       "</pre>\n"
      ],
      "text/plain": [
       "⚠️ Request failed for ASIN: B07Q36CHDL - HTTPConnectionPool(host='shoplens.local', port=80): Read timed out. (read \n",
       "timeout=5)\n"
      ]
     },
     "metadata": {},
     "output_type": "display_data"
    },
    {
     "data": {
      "text/html": [
       "<pre style=\"white-space:pre;overflow-x:auto;line-height:normal;font-family:Menlo,'DejaVu Sans Mono',consolas,'Courier New',monospace\">⚠️ Request failed for ASIN: B0B24NX7ZP - HTTPConnectionPool(host='shoplens.local', port=80): Read timed out. (read \n",
       "timeout=5)\n",
       "</pre>\n"
      ],
      "text/plain": [
       "⚠️ Request failed for ASIN: B0B24NX7ZP - HTTPConnectionPool(host='shoplens.local', port=80): Read timed out. (read \n",
       "timeout=5)\n"
      ]
     },
     "metadata": {},
     "output_type": "display_data"
    },
    {
     "data": {
      "text/html": [
       "<pre style=\"white-space:pre;overflow-x:auto;line-height:normal;font-family:Menlo,'DejaVu Sans Mono',consolas,'Courier New',monospace\">⚠️ Request failed for ASIN: B09MWH2YWF - HTTPConnectionPool(host='shoplens.local', port=80): Read timed out. (read \n",
       "timeout=5)\n",
       "</pre>\n"
      ],
      "text/plain": [
       "⚠️ Request failed for ASIN: B09MWH2YWF - HTTPConnectionPool(host='shoplens.local', port=80): Read timed out. (read \n",
       "timeout=5)\n"
      ]
     },
     "metadata": {},
     "output_type": "display_data"
    },
    {
     "data": {
      "text/html": [
       "<pre style=\"white-space:pre;overflow-x:auto;line-height:normal;font-family:Menlo,'DejaVu Sans Mono',consolas,'Courier New',monospace\">⚠️ Request failed for ASIN: B01HMUMBXY - HTTPConnectionPool(host='shoplens.local', port=80): Read timed out. (read \n",
       "timeout=5)\n",
       "</pre>\n"
      ],
      "text/plain": [
       "⚠️ Request failed for ASIN: B01HMUMBXY - HTTPConnectionPool(host='shoplens.local', port=80): Read timed out. (read \n",
       "timeout=5)\n"
      ]
     },
     "metadata": {},
     "output_type": "display_data"
    },
    {
     "data": {
      "text/html": [
       "<pre style=\"white-space:pre;overflow-x:auto;line-height:normal;font-family:Menlo,'DejaVu Sans Mono',consolas,'Courier New',monospace\">⚠️ Request failed for ASIN: B00VTM6LWO - HTTPConnectionPool(host='shoplens.local', port=80): Read timed out. (read \n",
       "timeout=5)\n",
       "</pre>\n"
      ],
      "text/plain": [
       "⚠️ Request failed for ASIN: B00VTM6LWO - HTTPConnectionPool(host='shoplens.local', port=80): Read timed out. (read \n",
       "timeout=5)\n"
      ]
     },
     "metadata": {},
     "output_type": "display_data"
    },
    {
     "data": {
      "text/html": [
       "<pre style=\"white-space:pre;overflow-x:auto;line-height:normal;font-family:Menlo,'DejaVu Sans Mono',consolas,'Courier New',monospace\">⚠️ Request failed for ASIN: B0CCB316P3 - HTTPConnectionPool(host='shoplens.local', port=80): Read timed out. (read \n",
       "timeout=5)\n",
       "</pre>\n"
      ],
      "text/plain": [
       "⚠️ Request failed for ASIN: B0CCB316P3 - HTTPConnectionPool(host='shoplens.local', port=80): Read timed out. (read \n",
       "timeout=5)\n"
      ]
     },
     "metadata": {},
     "output_type": "display_data"
    },
    {
     "data": {
      "text/html": [
       "<pre style=\"white-space:pre;overflow-x:auto;line-height:normal;font-family:Menlo,'DejaVu Sans Mono',consolas,'Courier New',monospace\">⚠️ Request failed for ASIN: B07MHNGWSN - HTTPConnectionPool(host='shoplens.local', port=80): Read timed out. (read \n",
       "timeout=5)\n",
       "</pre>\n"
      ],
      "text/plain": [
       "⚠️ Request failed for ASIN: B07MHNGWSN - HTTPConnectionPool(host='shoplens.local', port=80): Read timed out. (read \n",
       "timeout=5)\n"
      ]
     },
     "metadata": {},
     "output_type": "display_data"
    },
    {
     "data": {
      "text/html": [
       "<pre style=\"white-space:pre;overflow-x:auto;line-height:normal;font-family:Menlo,'DejaVu Sans Mono',consolas,'Courier New',monospace\">⚠️ Request failed for ASIN: B09B1WW9Z3 - HTTPConnectionPool(host='shoplens.local', port=80): Read timed out. (read \n",
       "timeout=5)\n",
       "</pre>\n"
      ],
      "text/plain": [
       "⚠️ Request failed for ASIN: B09B1WW9Z3 - HTTPConnectionPool(host='shoplens.local', port=80): Read timed out. (read \n",
       "timeout=5)\n"
      ]
     },
     "metadata": {},
     "output_type": "display_data"
    },
    {
     "data": {
      "text/html": [
       "<pre style=\"white-space:pre;overflow-x:auto;line-height:normal;font-family:Menlo,'DejaVu Sans Mono',consolas,'Courier New',monospace\">⚠️ Request failed for ASIN: B0BFMGSCBV - HTTPConnectionPool(host='shoplens.local', port=80): Read timed out. (read \n",
       "timeout=5)\n",
       "</pre>\n"
      ],
      "text/plain": [
       "⚠️ Request failed for ASIN: B0BFMGSCBV - HTTPConnectionPool(host='shoplens.local', port=80): Read timed out. (read \n",
       "timeout=5)\n"
      ]
     },
     "metadata": {},
     "output_type": "display_data"
    },
    {
     "data": {
      "text/html": [
       "<pre style=\"white-space:pre;overflow-x:auto;line-height:normal;font-family:Menlo,'DejaVu Sans Mono',consolas,'Courier New',monospace\">⚠️ Request failed for ASIN: B09N8PWNVN - HTTPConnectionPool(host='shoplens.local', port=80): Read timed out. (read \n",
       "timeout=5)\n",
       "</pre>\n"
      ],
      "text/plain": [
       "⚠️ Request failed for ASIN: B09N8PWNVN - HTTPConnectionPool(host='shoplens.local', port=80): Read timed out. (read \n",
       "timeout=5)\n"
      ]
     },
     "metadata": {},
     "output_type": "display_data"
    },
    {
     "data": {
      "text/html": [
       "<pre style=\"white-space:pre;overflow-x:auto;line-height:normal;font-family:Menlo,'DejaVu Sans Mono',consolas,'Courier New',monospace\">⚠️ Request failed for ASIN: B07B8G7KRP - HTTPConnectionPool(host='shoplens.local', port=80): Read timed out. (read \n",
       "timeout=5)\n",
       "</pre>\n"
      ],
      "text/plain": [
       "⚠️ Request failed for ASIN: B07B8G7KRP - HTTPConnectionPool(host='shoplens.local', port=80): Read timed out. (read \n",
       "timeout=5)\n"
      ]
     },
     "metadata": {},
     "output_type": "display_data"
    },
    {
     "data": {
      "text/html": [
       "<pre style=\"white-space:pre;overflow-x:auto;line-height:normal;font-family:Menlo,'DejaVu Sans Mono',consolas,'Courier New',monospace\">⚠️ Request failed for ASIN: B0BJ47QJF6 - HTTPConnectionPool(host='shoplens.local', port=80): Read timed out. (read \n",
       "timeout=5)\n",
       "</pre>\n"
      ],
      "text/plain": [
       "⚠️ Request failed for ASIN: B0BJ47QJF6 - HTTPConnectionPool(host='shoplens.local', port=80): Read timed out. (read \n",
       "timeout=5)\n"
      ]
     },
     "metadata": {},
     "output_type": "display_data"
    },
    {
     "data": {
      "text/html": [
       "<pre style=\"white-space:pre;overflow-x:auto;line-height:normal;font-family:Menlo,'DejaVu Sans Mono',consolas,'Courier New',monospace\">⚠️ Request failed for ASIN: B0BN233BZR - HTTPConnectionPool(host='shoplens.local', port=80): Read timed out. (read \n",
       "timeout=5)\n",
       "</pre>\n"
      ],
      "text/plain": [
       "⚠️ Request failed for ASIN: B0BN233BZR - HTTPConnectionPool(host='shoplens.local', port=80): Read timed out. (read \n",
       "timeout=5)\n"
      ]
     },
     "metadata": {},
     "output_type": "display_data"
    },
    {
     "data": {
      "text/html": [
       "<pre style=\"white-space:pre;overflow-x:auto;line-height:normal;font-family:Menlo,'DejaVu Sans Mono',consolas,'Courier New',monospace\">⚠️ Request failed for ASIN: B002IIE9SQ - HTTPConnectionPool(host='shoplens.local', port=80): Read timed out. (read \n",
       "timeout=5)\n",
       "</pre>\n"
      ],
      "text/plain": [
       "⚠️ Request failed for ASIN: B002IIE9SQ - HTTPConnectionPool(host='shoplens.local', port=80): Read timed out. (read \n",
       "timeout=5)\n"
      ]
     },
     "metadata": {},
     "output_type": "display_data"
    },
    {
     "data": {
      "text/html": [
       "<pre style=\"white-space:pre;overflow-x:auto;line-height:normal;font-family:Menlo,'DejaVu Sans Mono',consolas,'Courier New',monospace\">⚠️ Request failed for ASIN: B01M0GS8DG - HTTPConnectionPool(host='shoplens.local', port=80): Read timed out. (read \n",
       "timeout=5)\n",
       "</pre>\n"
      ],
      "text/plain": [
       "⚠️ Request failed for ASIN: B01M0GS8DG - HTTPConnectionPool(host='shoplens.local', port=80): Read timed out. (read \n",
       "timeout=5)\n"
      ]
     },
     "metadata": {},
     "output_type": "display_data"
    },
    {
     "data": {
      "text/html": [
       "<pre style=\"white-space:pre;overflow-x:auto;line-height:normal;font-family:Menlo,'DejaVu Sans Mono',consolas,'Courier New',monospace\"></pre>\n"
      ],
      "text/plain": []
     },
     "metadata": {},
     "output_type": "display_data"
    },
    {
     "name": "stdout",
     "output_type": "stream",
     "text": [
      "✅ Product creation process completed!\n"
     ]
    }
   ],
   "source": [
    "products_df = pd.read_csv(\"sampled_fashion_categories.csv\")\n",
    "\n",
    "# Add a column for product IDs\n",
    "products_df.insert(0, \"id\", None)\n",
    "\n",
    "with Progress(\n",
    "    TextColumn(\"[cyan]Creating Products...\"),\n",
    "    BarColumn(),\n",
    "    TextColumn(\"{task.completed}/{task.total}\"),\n",
    "    TimeElapsedColumn(),\n",
    "    TimeRemainingColumn(),\n",
    ") as progress:\n",
    "    \n",
    "    task = progress.add_task(\"Creating Products...\", total=len(products_df))\n",
    "    \n",
    "    for index, row in products_df.iterrows():\n",
    "        description_text = f\"{row['title']}. {row['title']}\"\n",
    "        data = {\n",
    "            \"name\": row[\"title\"],\n",
    "            \"type\": \"simple\",\n",
    "            \"regular_price\": str(row[\"price\"]*180),\n",
    "            \"description\": description_text,\n",
    "            \"short_description\": row[\"title\"],\n",
    "            \"categories\": [{\"id\": row[\"categoryId\"]}],\n",
    "            \"images\": [{\"src\": row[\"imgUrl\"]}],\n",
    "            \"sku\": row[\"asin\"],\n",
    "            \"featured\": bool(row[\"isBestSeller\"]),\n",
    "            \"meta_data\": [\n",
    "                {\"key\": \"stars\", \"value\": str(row[\"stars\"])},\n",
    "                {\"key\": \"reviews\", \"value\": str(row[\"reviews\"])},\n",
    "                {\"key\": \"boughtInLastMonth\", \"value\": str(row[\"boughtInLastMonth\"])}\n",
    "            ]\n",
    "        }\n",
    "        \n",
    "        try:\n",
    "            # Send API request\n",
    "            response = wcapi.post(\"products\", data).json()\n",
    "        \n",
    "            # Extract product ID if available\n",
    "            product_id = response.get(\"id\")\n",
    "            if product_id:\n",
    "                products_df.at[index, \"id\"] = product_id  # Update ID in DataFrame\n",
    "            else:\n",
    "                print(f\"⚠️ No ID returned for ASIN {row['asin']}\")\n",
    "        \n",
    "        except Exception as e:\n",
    "            print(f\"⚠️ Request failed for ASIN: {row['asin']} - {e}\")\n",
    "            continue  # Skip to the next iteration\n",
    "\n",
    "\n",
    "        progress.update(task, advance=1)  # Update progress bar\n",
    "        time.sleep(0.25)  # Reduce sleep to 250ms\n",
    "\n",
    "# Save the updated DataFrame with product IDs\n",
    "products_df.to_csv(\"products_with_ids.csv\", index=False)\n",
    "\n",
    "print(\"✅ Product creation process completed!\")\n"
   ]
  },
  {
   "cell_type": "code",
   "execution_count": 86,
   "id": "00b8f9fe-7d4e-4ebf-8999-ad2185a11f1b",
   "metadata": {},
   "outputs": [],
   "source": [
    "# Convert 'id' column to integer, handling NaNs\n",
    "products_df[\"id\"] = pd.to_numeric(products_df[\"id\"], errors=\"coerce\").astype(\"Int64\")  # 'Int64' supports NaNs\n",
    "\n",
    "products_df.to_csv(\"products_with_ids.csv\", index=False)\n"
   ]
  },
  {
   "cell_type": "code",
   "execution_count": 87,
   "id": "d60c7cad-d9eb-41ee-9548-664d708f34c1",
   "metadata": {},
   "outputs": [
    {
     "data": {
      "text/html": [
       "<div>\n",
       "<style scoped>\n",
       "    .dataframe tbody tr th:only-of-type {\n",
       "        vertical-align: middle;\n",
       "    }\n",
       "\n",
       "    .dataframe tbody tr th {\n",
       "        vertical-align: top;\n",
       "    }\n",
       "\n",
       "    .dataframe thead th {\n",
       "        text-align: right;\n",
       "    }\n",
       "</style>\n",
       "<table border=\"1\" class=\"dataframe\">\n",
       "  <thead>\n",
       "    <tr style=\"text-align: right;\">\n",
       "      <th></th>\n",
       "      <th>id</th>\n",
       "      <th>asin</th>\n",
       "      <th>title</th>\n",
       "      <th>imgUrl</th>\n",
       "      <th>productURL</th>\n",
       "      <th>stars</th>\n",
       "      <th>reviews</th>\n",
       "      <th>price</th>\n",
       "      <th>isBestSeller</th>\n",
       "      <th>boughtInLastMonth</th>\n",
       "      <th>categoryName</th>\n",
       "      <th>categoryId</th>\n",
       "    </tr>\n",
       "  </thead>\n",
       "  <tbody>\n",
       "    <tr>\n",
       "      <th>8</th>\n",
       "      <td>0</td>\n",
       "      <td>B00V636FU4</td>\n",
       "      <td>Women Ballroom Dance Shoes Mary Jane Shoes Low...</td>\n",
       "      <td>https://m.media-amazon.com/images/I/61BwR-oZLK...</td>\n",
       "      <td>https://www.amazon.co.uk/dp/B00V636FU4</td>\n",
       "      <td>4.0</td>\n",
       "      <td>78</td>\n",
       "      <td>15.00</td>\n",
       "      <td>False</td>\n",
       "      <td>0</td>\n",
       "      <td>Ballet &amp; Dancing Footwear</td>\n",
       "      <td>20</td>\n",
       "    </tr>\n",
       "    <tr>\n",
       "      <th>9</th>\n",
       "      <td>0</td>\n",
       "      <td>B0CJ386B4H</td>\n",
       "      <td>2024 New -Style Shoes Social Shoe Sequins Wome...</td>\n",
       "      <td>https://m.media-amazon.com/images/I/61Bvx2Xzmd...</td>\n",
       "      <td>https://www.amazon.co.uk/dp/B0CJ386B4H</td>\n",
       "      <td>0.0</td>\n",
       "      <td>0</td>\n",
       "      <td>7.76</td>\n",
       "      <td>False</td>\n",
       "      <td>0</td>\n",
       "      <td>Ballet &amp; Dancing Footwear</td>\n",
       "      <td>20</td>\n",
       "    </tr>\n",
       "    <tr>\n",
       "      <th>13</th>\n",
       "      <td>0</td>\n",
       "      <td>B00R4KTO9M</td>\n",
       "      <td>Bloch Unisex's Warm Up Boots Fashion</td>\n",
       "      <td>https://m.media-amazon.com/images/I/51ptar699B...</td>\n",
       "      <td>https://www.amazon.co.uk/dp/B00R4KTO9M</td>\n",
       "      <td>5.0</td>\n",
       "      <td>3</td>\n",
       "      <td>36.50</td>\n",
       "      <td>False</td>\n",
       "      <td>0</td>\n",
       "      <td>Ballet &amp; Dancing Footwear</td>\n",
       "      <td>20</td>\n",
       "    </tr>\n",
       "    <tr>\n",
       "      <th>15</th>\n",
       "      <td>0</td>\n",
       "      <td>B0CHWFPYXZ</td>\n",
       "      <td>Wouke Women's Cute Sneaker,Workwear Wedding Ma...</td>\n",
       "      <td>https://m.media-amazon.com/images/I/51MzyJh2Ff...</td>\n",
       "      <td>https://www.amazon.co.uk/dp/B0CHWFPYXZ</td>\n",
       "      <td>0.0</td>\n",
       "      <td>0</td>\n",
       "      <td>13.99</td>\n",
       "      <td>False</td>\n",
       "      <td>0</td>\n",
       "      <td>Ballet &amp; Dancing Footwear</td>\n",
       "      <td>20</td>\n",
       "    </tr>\n",
       "    <tr>\n",
       "      <th>18</th>\n",
       "      <td>0</td>\n",
       "      <td>B0CFY8C6ZQ</td>\n",
       "      <td>AOQUNFS Girls' Dance Shoes Rhinestones Fashion...</td>\n",
       "      <td>https://m.media-amazon.com/images/I/61h8J3c+G1...</td>\n",
       "      <td>https://www.amazon.co.uk/dp/B0CFY8C6ZQ</td>\n",
       "      <td>0.0</td>\n",
       "      <td>0</td>\n",
       "      <td>29.99</td>\n",
       "      <td>False</td>\n",
       "      <td>0</td>\n",
       "      <td>Ballet &amp; Dancing Footwear</td>\n",
       "      <td>20</td>\n",
       "    </tr>\n",
       "    <tr>\n",
       "      <th>...</th>\n",
       "      <td>...</td>\n",
       "      <td>...</td>\n",
       "      <td>...</td>\n",
       "      <td>...</td>\n",
       "      <td>...</td>\n",
       "      <td>...</td>\n",
       "      <td>...</td>\n",
       "      <td>...</td>\n",
       "      <td>...</td>\n",
       "      <td>...</td>\n",
       "      <td>...</td>\n",
       "      <td>...</td>\n",
       "    </tr>\n",
       "    <tr>\n",
       "      <th>2083</th>\n",
       "      <td>0</td>\n",
       "      <td>B07B8G7KRP</td>\n",
       "      <td>Unisex Adults’ Classic Slide Open Toe Sandals</td>\n",
       "      <td>https://m.media-amazon.com/images/I/51L2hMuQ0N...</td>\n",
       "      <td>https://www.amazon.co.uk/dp/B07B8G7KRP</td>\n",
       "      <td>4.6</td>\n",
       "      <td>8935</td>\n",
       "      <td>21.76</td>\n",
       "      <td>False</td>\n",
       "      <td>0</td>\n",
       "      <td>Women's Sports &amp; Outdoor Shoes</td>\n",
       "      <td>40</td>\n",
       "    </tr>\n",
       "    <tr>\n",
       "      <th>2086</th>\n",
       "      <td>0</td>\n",
       "      <td>B0BJ47QJF6</td>\n",
       "      <td>Women's Catamount 2 Sneaker</td>\n",
       "      <td>https://m.media-amazon.com/images/I/817416RfxG...</td>\n",
       "      <td>https://www.amazon.co.uk/dp/B0BJ47QJF6</td>\n",
       "      <td>4.1</td>\n",
       "      <td>9</td>\n",
       "      <td>168.00</td>\n",
       "      <td>False</td>\n",
       "      <td>0</td>\n",
       "      <td>Women's Sports &amp; Outdoor Shoes</td>\n",
       "      <td>40</td>\n",
       "    </tr>\n",
       "    <tr>\n",
       "      <th>2089</th>\n",
       "      <td>0</td>\n",
       "      <td>B0BN233BZR</td>\n",
       "      <td>Women's GT-2000 11 Sneaker, Whisper Green Pure...</td>\n",
       "      <td>https://m.media-amazon.com/images/I/51gA1HkXNN...</td>\n",
       "      <td>https://www.amazon.co.uk/dp/B0BN233BZR</td>\n",
       "      <td>0.0</td>\n",
       "      <td>0</td>\n",
       "      <td>108.00</td>\n",
       "      <td>False</td>\n",
       "      <td>0</td>\n",
       "      <td>Women's Sports &amp; Outdoor Shoes</td>\n",
       "      <td>40</td>\n",
       "    </tr>\n",
       "    <tr>\n",
       "      <th>2095</th>\n",
       "      <td>0</td>\n",
       "      <td>B002IIE9SQ</td>\n",
       "      <td>Unisex Adults’ Avenger Hiking Boot</td>\n",
       "      <td>https://m.media-amazon.com/images/I/81dH1A6a1+...</td>\n",
       "      <td>https://www.amazon.co.uk/dp/B002IIE9SQ</td>\n",
       "      <td>4.5</td>\n",
       "      <td>239</td>\n",
       "      <td>75.68</td>\n",
       "      <td>False</td>\n",
       "      <td>0</td>\n",
       "      <td>Women's Sports &amp; Outdoor Shoes</td>\n",
       "      <td>40</td>\n",
       "    </tr>\n",
       "    <tr>\n",
       "      <th>2097</th>\n",
       "      <td>0</td>\n",
       "      <td>B01M0GS8DG</td>\n",
       "      <td>Girl's Reggae Slim-Vacay-40955 Sling Back Sand...</td>\n",
       "      <td>https://m.media-amazon.com/images/I/71lSBJ9xqF...</td>\n",
       "      <td>https://www.amazon.co.uk/dp/B01M0GS8DG</td>\n",
       "      <td>4.4</td>\n",
       "      <td>8961</td>\n",
       "      <td>29.00</td>\n",
       "      <td>True</td>\n",
       "      <td>0</td>\n",
       "      <td>Women's Sports &amp; Outdoor Shoes</td>\n",
       "      <td>40</td>\n",
       "    </tr>\n",
       "  </tbody>\n",
       "</table>\n",
       "<p>117 rows × 12 columns</p>\n",
       "</div>"
      ],
      "text/plain": [
       "      id        asin                                              title  \\\n",
       "8      0  B00V636FU4  Women Ballroom Dance Shoes Mary Jane Shoes Low...   \n",
       "9      0  B0CJ386B4H  2024 New -Style Shoes Social Shoe Sequins Wome...   \n",
       "13     0  B00R4KTO9M               Bloch Unisex's Warm Up Boots Fashion   \n",
       "15     0  B0CHWFPYXZ  Wouke Women's Cute Sneaker,Workwear Wedding Ma...   \n",
       "18     0  B0CFY8C6ZQ  AOQUNFS Girls' Dance Shoes Rhinestones Fashion...   \n",
       "...   ..         ...                                                ...   \n",
       "2083   0  B07B8G7KRP      Unisex Adults’ Classic Slide Open Toe Sandals   \n",
       "2086   0  B0BJ47QJF6                        Women's Catamount 2 Sneaker   \n",
       "2089   0  B0BN233BZR  Women's GT-2000 11 Sneaker, Whisper Green Pure...   \n",
       "2095   0  B002IIE9SQ                 Unisex Adults’ Avenger Hiking Boot   \n",
       "2097   0  B01M0GS8DG  Girl's Reggae Slim-Vacay-40955 Sling Back Sand...   \n",
       "\n",
       "                                                 imgUrl  \\\n",
       "8     https://m.media-amazon.com/images/I/61BwR-oZLK...   \n",
       "9     https://m.media-amazon.com/images/I/61Bvx2Xzmd...   \n",
       "13    https://m.media-amazon.com/images/I/51ptar699B...   \n",
       "15    https://m.media-amazon.com/images/I/51MzyJh2Ff...   \n",
       "18    https://m.media-amazon.com/images/I/61h8J3c+G1...   \n",
       "...                                                 ...   \n",
       "2083  https://m.media-amazon.com/images/I/51L2hMuQ0N...   \n",
       "2086  https://m.media-amazon.com/images/I/817416RfxG...   \n",
       "2089  https://m.media-amazon.com/images/I/51gA1HkXNN...   \n",
       "2095  https://m.media-amazon.com/images/I/81dH1A6a1+...   \n",
       "2097  https://m.media-amazon.com/images/I/71lSBJ9xqF...   \n",
       "\n",
       "                                  productURL  stars  reviews   price  \\\n",
       "8     https://www.amazon.co.uk/dp/B00V636FU4    4.0       78   15.00   \n",
       "9     https://www.amazon.co.uk/dp/B0CJ386B4H    0.0        0    7.76   \n",
       "13    https://www.amazon.co.uk/dp/B00R4KTO9M    5.0        3   36.50   \n",
       "15    https://www.amazon.co.uk/dp/B0CHWFPYXZ    0.0        0   13.99   \n",
       "18    https://www.amazon.co.uk/dp/B0CFY8C6ZQ    0.0        0   29.99   \n",
       "...                                      ...    ...      ...     ...   \n",
       "2083  https://www.amazon.co.uk/dp/B07B8G7KRP    4.6     8935   21.76   \n",
       "2086  https://www.amazon.co.uk/dp/B0BJ47QJF6    4.1        9  168.00   \n",
       "2089  https://www.amazon.co.uk/dp/B0BN233BZR    0.0        0  108.00   \n",
       "2095  https://www.amazon.co.uk/dp/B002IIE9SQ    4.5      239   75.68   \n",
       "2097  https://www.amazon.co.uk/dp/B01M0GS8DG    4.4     8961   29.00   \n",
       "\n",
       "      isBestSeller  boughtInLastMonth                    categoryName  \\\n",
       "8            False                  0       Ballet & Dancing Footwear   \n",
       "9            False                  0       Ballet & Dancing Footwear   \n",
       "13           False                  0       Ballet & Dancing Footwear   \n",
       "15           False                  0       Ballet & Dancing Footwear   \n",
       "18           False                  0       Ballet & Dancing Footwear   \n",
       "...            ...                ...                             ...   \n",
       "2083         False                  0  Women's Sports & Outdoor Shoes   \n",
       "2086         False                  0  Women's Sports & Outdoor Shoes   \n",
       "2089         False                  0  Women's Sports & Outdoor Shoes   \n",
       "2095         False                  0  Women's Sports & Outdoor Shoes   \n",
       "2097          True                  0  Women's Sports & Outdoor Shoes   \n",
       "\n",
       "      categoryId  \n",
       "8             20  \n",
       "9             20  \n",
       "13            20  \n",
       "15            20  \n",
       "18            20  \n",
       "...          ...  \n",
       "2083          40  \n",
       "2086          40  \n",
       "2089          40  \n",
       "2095          40  \n",
       "2097          40  \n",
       "\n",
       "[117 rows x 12 columns]"
      ]
     },
     "execution_count": 87,
     "metadata": {},
     "output_type": "execute_result"
    }
   ],
   "source": [
    "\n",
    "# List rows where 'id' is null (before conversion)\n",
    "missing_id_rows = products_df[products_df[\"id\"] == 0]  # Assuming NaN was replaced with 0\n",
    "\n",
    "# Print or save the missing rows\n",
    "missing_id_rows"
   ]
  }
 ],
 "metadata": {
  "kernelspec": {
   "display_name": "Python 3 (ipykernel)",
   "language": "python",
   "name": "python3"
  },
  "language_info": {
   "codemirror_mode": {
    "name": "ipython",
    "version": 3
   },
   "file_extension": ".py",
   "mimetype": "text/x-python",
   "name": "python",
   "nbconvert_exporter": "python",
   "pygments_lexer": "ipython3",
   "version": "3.12.4"
  }
 },
 "nbformat": 4,
 "nbformat_minor": 5
}
